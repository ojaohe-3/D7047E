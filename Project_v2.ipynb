{
  "nbformat": 4,
  "nbformat_minor": 0,
  "metadata": {
    "colab": {
      "name": "Project_v2.ipynb",
      "provenance": []
    },
    "kernelspec": {
      "name": "python3",
      "display_name": "Python 3"
    },
    "language_info": {
      "name": "python"
    },
    "accelerator": "GPU"
  },
  "cells": [
    {
      "cell_type": "code",
      "metadata": {
        "colab": {
          "base_uri": "https://localhost:8080/"
        },
        "id": "ZMIo34um0td6",
        "outputId": "3144899e-52a1-4e32-ec7f-7e8cfee5532d"
      },
      "source": [
        "from google.colab import drive\n",
        "drive.mount('/content/drive')"
      ],
      "execution_count": 1,
      "outputs": [
        {
          "output_type": "stream",
          "text": [
            "Mounted at /content/drive\n"
          ],
          "name": "stdout"
        }
      ]
    },
    {
      "cell_type": "code",
      "metadata": {
        "id": "c8-gNgEL3QgX"
      },
      "source": [
        "!unzip -uq /content/drive/MyDrive/AdvancedDeepLearning/Project/val.zip -d data\n",
        "!unzip -uq /content/drive/MyDrive/AdvancedDeepLearning/Project/train.zip -d data\n",
        "!unzip -uq /content/drive/MyDrive/AdvancedDeepLearning/Project/test.zip -d data"
      ],
      "execution_count": 2,
      "outputs": []
    },
    {
      "cell_type": "code",
      "metadata": {
        "id": "qLweT4y6wWaV"
      },
      "source": [
        "import torchvision.transforms as T\n",
        "from torchvision.datasets import ImageFolder\n",
        "from torch.utils.data import DataLoader\n",
        "\n",
        "mean_nums = [0.485, 0.456, 0.406]\n",
        "std_nums = [0.229, 0.224, 0.225]\n",
        "\n",
        "train_transform = T.Compose([\n",
        "  T.RandomResizedCrop(size=256),\n",
        "  T.ToTensor(),\n",
        "  T.Normalize(mean_nums, std_nums)\n",
        "])\n",
        "\n",
        "test_transform = T.Compose([\n",
        "  T.RandomResizedCrop(size=256),\n",
        "  T.ToTensor(),\n",
        "  T.Normalize(mean_nums, std_nums)\n",
        "])\n",
        "\n",
        "\n",
        "val_transform = T.Compose([\n",
        "  T.RandomResizedCrop(size=256),\n",
        "  T.ToTensor(),\n",
        "  T.Normalize(mean_nums, std_nums)\n",
        "])\n",
        "\n",
        "\n",
        "train_dataset = ImageFolder('data/train', train_transform)\n",
        "train_loader = DataLoader(train_dataset, batch_size=32, shuffle=True)\n",
        "\n",
        "test_dataset = ImageFolder('data/test', test_transform)\n",
        "test_loader = DataLoader(test_dataset, batch_size=4, shuffle=True)\n",
        "\n",
        "val_dataset = ImageFolder('data/val', val_transform)\n",
        "val_loader = DataLoader(val_dataset, batch_size=4, shuffle=True)\n"
      ],
      "execution_count": 72,
      "outputs": []
    },
    {
      "cell_type": "code",
      "metadata": {
        "colab": {
          "base_uri": "https://localhost:8080/"
        },
        "id": "x4atgMUxzcy-",
        "outputId": "058485b6-e6c8-47de-ca21-d7b8ce8968e1"
      },
      "source": [
        "train_features, train_labels = next(iter(train_loader))\n",
        "print(f\"Feature batch shape: {train_features.size()}\")\n",
        "print(f\"Labels batch shape: {train_labels.size()}\")"
      ],
      "execution_count": 57,
      "outputs": [
        {
          "output_type": "stream",
          "text": [
            "Feature batch shape: torch.Size([32, 3, 256, 256])\n",
            "Labels batch shape: torch.Size([32])\n"
          ],
          "name": "stdout"
        }
      ]
    },
    {
      "cell_type": "code",
      "metadata": {
        "colab": {
          "base_uri": "https://localhost:8080/"
        },
        "id": "DlhKFqk50QA5",
        "outputId": "3b2217c1-e2ec-4019-8052-c7e09c9ae057"
      },
      "source": [
        "import torch\n",
        "device = torch.device(\"cuda:0\" if torch.cuda.is_available() else \"cpu\")\n",
        "device"
      ],
      "execution_count": 58,
      "outputs": [
        {
          "output_type": "execute_result",
          "data": {
            "text/plain": [
              "device(type='cuda', index=0)"
            ]
          },
          "metadata": {
            "tags": []
          },
          "execution_count": 58
        }
      ]
    },
    {
      "cell_type": "code",
      "metadata": {
        "id": "EjOSYRqpzlr_"
      },
      "source": [
        "def create_model(n_classes):\n",
        "  model = models.resnet18(pretrained=True)\n",
        "\n",
        "  n_features = model.fc.in_features\n",
        "  model.fc = nn.Linear(n_features, n_classes)\n",
        "\n",
        "  return model.to(device)"
      ],
      "execution_count": 59,
      "outputs": []
    },
    {
      "cell_type": "code",
      "metadata": {
        "id": "-50FlrRTz5mu"
      },
      "source": [
        "from torchvision import models\n",
        "from torch import nn, optim\n",
        "model = create_model(1)"
      ],
      "execution_count": 60,
      "outputs": []
    },
    {
      "cell_type": "code",
      "metadata": {
        "id": "24_TShWzz7nS"
      },
      "source": [
        "def train_epoch(\n",
        "  model, \n",
        "  data_loader, \n",
        "  loss_fn, \n",
        "  optimizer, \n",
        "  device, \n",
        "  n_examples\n",
        "):\n",
        "  model = model.train()\n",
        "\n",
        "  losses = []\n",
        "  correct_predictions = 0\n",
        "  \n",
        "  for inputs, labels in data_loader:\n",
        "    inputs = inputs.to(device)\n",
        "    labels = labels.unsqueeze(1).to(device).float()\n",
        "\n",
        "    optimizer.zero_grad()\n",
        "    outputs = model(inputs)\n",
        "    loss = loss_fn(outputs, labels)\n",
        "    losses.append(loss.item())\n",
        "    loss.backward()\n",
        "    optimizer.step()\n",
        "\n",
        "    y_pred = torch.round(torch.sigmoid(outputs))\n",
        "    correct_predictions += torch.sum(y_pred == labels)\n",
        "\n",
        "\n",
        "  return correct_predictions.double() / n_examples, np.mean(losses)"
      ],
      "execution_count": 61,
      "outputs": []
    },
    {
      "cell_type": "code",
      "metadata": {
        "colab": {
          "base_uri": "https://localhost:8080/"
        },
        "id": "yf0LNcYS0-Hr",
        "outputId": "7820134f-ec0b-40b3-fd95-505717ec29f8"
      },
      "source": [
        "from torch import optim\n",
        "import numpy as np\n",
        "\n",
        "\n",
        "optimizer = optim.SGD(model.parameters(), lr=0.001, momentum=0.9)\n",
        "loss_fn = nn.BCEWithLogitsLoss()\n",
        "\n",
        "n_epochs = 10\n",
        "\n",
        "for epoch in range(n_epochs):\n",
        "  print(f'Epoch {epoch + 1}/{n_epochs}')\n",
        "  print('-' * 10)\n",
        "  train_acc, train_loss = train_epoch(model, train_loader, loss_fn, optimizer, device, len(train_dataset))\n",
        "  print(f'Train loss {train_loss} accuracy {train_acc}')\n"
      ],
      "execution_count": 62,
      "outputs": [
        {
          "output_type": "stream",
          "text": [
            "Epoch 1/10\n",
            "----------\n",
            "Train loss 0.2787023243134373 accuracy 0.875\n",
            "Epoch 2/10\n",
            "----------\n",
            "Train loss 0.1675297680762282 accuracy 0.9392254601226994\n",
            "Epoch 3/10\n",
            "----------\n",
            "Train loss 0.14752612048131555 accuracy 0.942101226993865\n",
            "Epoch 4/10\n",
            "----------\n",
            "Train loss 0.13971481753364662 accuracy 0.946319018404908\n",
            "Epoch 5/10\n",
            "----------\n",
            "Train loss 0.13315761287016736 accuracy 0.9522622699386504\n",
            "Epoch 6/10\n",
            "----------\n",
            "Train loss 0.11855299486293018 accuracy 0.9539877300613497\n",
            "Epoch 7/10\n",
            "----------\n",
            "Train loss 0.11591820121725645 accuracy 0.9516871165644172\n",
            "Epoch 8/10\n",
            "----------\n",
            "Train loss 0.10543542252167877 accuracy 0.95954754601227\n",
            "Epoch 9/10\n",
            "----------\n",
            "Train loss 0.10933339977465524 accuracy 0.9570552147239264\n",
            "Epoch 10/10\n",
            "----------\n",
            "Train loss 0.09697776392353641 accuracy 0.9629984662576687\n"
          ],
          "name": "stdout"
        }
      ]
    },
    {
      "cell_type": "code",
      "metadata": {
        "id": "lZDYTb0ujVaF"
      },
      "source": [
        "def validate(net, loader):\n",
        "  #device = torch.device('cuda:0' if torch.cuda.is_available() else 'cpu')\n",
        "  print(\"testing network:\")\n",
        "  correct = 0\n",
        "  total = 0\n",
        "  with torch.no_grad():\n",
        "    for inputs, labels in loader:\n",
        "      inputs = inputs.to(device)\n",
        "      labels = labels.unsqueeze(1).to(device)\n",
        "      \n",
        "      outputs = net(inputs)\n",
        "      y_pred = torch.round(torch.sigmoid(outputs))\n",
        "      #correct += torch.sum(y_pred == labels)\n",
        "      correct += (y_pred == labels).sum().float()\n",
        "      total += labels.size(0)\n",
        "    print(\"total accuracy of net: %.2f%%\" % (correct/total*100))"
      ],
      "execution_count": 88,
      "outputs": []
    },
    {
      "cell_type": "code",
      "metadata": {
        "colab": {
          "base_uri": "https://localhost:8080/"
        },
        "id": "0pqu0fx2kHzr",
        "outputId": "4f7952f7-d5c6-4807-b8d6-ec0f4ba9754e"
      },
      "source": [
        "model = model.eval()\n",
        "validate(model, test_loader)"
      ],
      "execution_count": 89,
      "outputs": [
        {
          "output_type": "stream",
          "text": [
            "testing network:\n",
            "total accuracy of net: 94.07%\n"
          ],
          "name": "stdout"
        }
      ]
    },
    {
      "cell_type": "code",
      "metadata": {
        "colab": {
          "base_uri": "https://localhost:8080/"
        },
        "id": "h-gR92zOllyg",
        "outputId": "2e625395-fa96-41f5-f876-19959c7d3359"
      },
      "source": [
        "validate(model, val_loader)"
      ],
      "execution_count": 91,
      "outputs": [
        {
          "output_type": "stream",
          "text": [
            "testing network:\n",
            "total accuracy of net: 81.25%\n"
          ],
          "name": "stdout"
        }
      ]
    },
    {
      "cell_type": "code",
      "metadata": {
        "id": "ux3GPktIwHUk"
      },
      "source": [
        ""
      ],
      "execution_count": null,
      "outputs": []
    }
  ]
}