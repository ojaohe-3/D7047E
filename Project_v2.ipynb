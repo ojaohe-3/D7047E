{
  "nbformat": 4,
  "nbformat_minor": 0,
  "metadata": {
    "colab": {
      "name": "Project_v2.ipynb",
      "provenance": []
    },
    "kernelspec": {
      "name": "python392jvsc74a57bd063fd5069d213b44bf678585dea6b12cceca9941eaf7f819626cde1f2670de90d",
      "display_name": "Python 3.9.2 64-bit"
    },
    "language_info": {
      "name": "python",
      "version": "3.9.2"
    },
    "accelerator": "GPU",
    "metadata": {
      "interpreter": {
        "hash": "63fd5069d213b44bf678585dea6b12cceca9941eaf7f819626cde1f2670de90d"
      }
    }
  },
  "cells": [
    {
      "cell_type": "code",
      "metadata": {
        "colab": {
          "base_uri": "https://localhost:8080/"
        },
        "id": "ZMIo34um0td6",
        "outputId": "3144899e-52a1-4e32-ec7f-7e8cfee5532d"
      },
      "source": [
        "from google.colab import drive\n",
        "drive.mount('/content/drive')"
      ],
      "execution_count": 1,
      "outputs": [
        {
          "output_type": "stream",
          "text": [
            "Mounted at /content/drive\n"
          ],
          "name": "stdout"
        }
      ]
    },
    {
      "cell_type": "code",
      "metadata": {
        "id": "c8-gNgEL3QgX"
      },
      "source": [
        "!unzip -uq /content/drive/MyDrive/AdvancedDeepLearning/Project/val.zip -d data\n",
        "!unzip -uq /content/drive/MyDrive/AdvancedDeepLearning/Project/train.zip -d data\n",
        "!unzip -uq /content/drive/MyDrive/AdvancedDeepLearning/Project/test.zip -d data"
      ],
      "execution_count": 2,
      "outputs": []
    },
    {
      "cell_type": "code",
      "metadata": {
        "id": "qLweT4y6wWaV"
      },
      "source": [
        "import torchvision.transforms as T\n",
        "from torchvision.datasets import ImageFolder\n",
        "from torch.utils.data import DataLoader\n",
        "\n",
        "mean_nums = [0.485, 0.456, 0.406]\n",
        "std_nums = [0.229, 0.224, 0.225]\n",
        "\n",
        "train_transform = T.Compose([\n",
        "  T.RandomResizedCrop(size=256),\n",
        "  T.ToTensor(),\n",
        "  T.Normalize(mean_nums, std_nums)\n",
        "])\n",
        "\n",
        "test_transform = T.Compose([\n",
        "  T.Resize([256, 256]),\n",
        "  T.ToTensor(),\n",
        "  T.Normalize(mean_nums, std_nums)\n",
        "])\n",
        "\n",
        "\n",
        "val_transform = T.Compose([\n",
        "  T.Resize([256, 256]),\n",
        "  T.ToTensor(),\n",
        "  T.Normalize(mean_nums, std_nums)\n",
        "])\n",
        "\n",
        "\n",
        "train_dataset = ImageFolder('data/train', train_transform)\n",
        "train_loader = DataLoader(train_dataset, batch_size=32, shuffle=True)\n",
        "\n",
        "test_dataset = ImageFolder('data/test', test_transform)\n",
        "test_loader = DataLoader(test_dataset, batch_size=8, shuffle=True)\n",
        "\n",
        "val_dataset = ImageFolder('data/val', val_transform)\n",
        "val_loader = DataLoader(val_dataset, batch_size=8, shuffle=True)\n"
      ],
      "execution_count": 57,
      "outputs": []
    },
    {
      "cell_type": "code",
      "metadata": {
        "colab": {
          "base_uri": "https://localhost:8080/"
        },
        "id": "x4atgMUxzcy-",
        "outputId": "058485b6-e6c8-47de-ca21-d7b8ce8968e1"
      },
      "source": [
        "train_features, train_labels = next(iter(train_loader))\n",
        "print(f\"Feature batch shape: {train_features.size()}\")\n",
        "print(f\"Labels batch shape: {train_labels.size()}\")"
      ],
      "execution_count": 50,
      "outputs": [
        {
          "output_type": "stream",
          "name": "stdout",
          "text": [
            "Feature batch shape: torch.Size([32, 3, 256, 256])\nLabels batch shape: torch.Size([32])\n"
          ]
        }
      ]
    },
    {
      "cell_type": "code",
      "metadata": {
        "colab": {
          "base_uri": "https://localhost:8080/"
        },
        "id": "DlhKFqk50QA5",
        "outputId": "3b2217c1-e2ec-4019-8052-c7e09c9ae057"
      },
      "source": [
        "import torch\n",
        "device = torch.device(\"cuda:0\" if torch.cuda.is_available() else \"cpu\")\n",
        "device"
      ],
      "execution_count": 45,
      "outputs": [
        {
          "output_type": "execute_result",
          "data": {
            "text/plain": [
              "device(type='cuda', index=0)"
            ]
          },
          "metadata": {},
          "execution_count": 45
        }
      ]
    },
    {
      "cell_type": "code",
      "metadata": {
        "id": "EjOSYRqpzlr_"
      },
      "source": [
        "def create_model(n_classes):\n",
        "  model = models.resnet18(pretrained=True)\n",
        "\n",
        "  n_features = model.fc.in_features\n",
        "  model.fc = nn.Linear(n_features, n_classes)\n",
        "\n",
        "  return model.to(device)"
      ],
      "execution_count": 4,
      "outputs": []
    },
    {
      "cell_type": "code",
      "metadata": {
        "id": "-50FlrRTz5mu"
      },
      "source": [
        "from torchvision import models\n",
        "from torch import nn, optim\n",
        "from tqdm import tqdm\n",
        "\n",
        "model = create_model(1)"
      ],
      "execution_count": 5,
      "outputs": []
    },
    {
      "cell_type": "code",
      "metadata": {
        "id": "24_TShWzz7nS"
      },
      "source": [
        "def train_epoch(\n",
        "  model, \n",
        "  data_loader, \n",
        "  loss_fn, \n",
        "  optimizer, \n",
        "  device, \n",
        "  n_examples\n",
        "):\n",
        "  model = model.train()\n",
        "\n",
        "  losses = []\n",
        "  correct_predictions = 0\n",
        "  \n",
        "  for inputs, labels in tqdm(data_loader):\n",
        "    inputs = inputs.to(device)\n",
        "    labels = labels.unsqueeze(1).to(device).float()\n",
        "\n",
        "    optimizer.zero_grad()\n",
        "    outputs = model(inputs)\n",
        "    loss = loss_fn(outputs, labels)\n",
        "    losses.append(loss.item())\n",
        "    loss.backward()\n",
        "    optimizer.step()\n",
        "\n",
        "    y_pred = torch.round(torch.sigmoid(outputs))\n",
        "    correct_predictions += torch.sum(y_pred == labels)\n",
        "\n",
        "\n",
        "  return correct_predictions.double() / n_examples, np.mean(losses)"
      ],
      "execution_count": 279,
      "outputs": []
    },
    {
      "cell_type": "code",
      "metadata": {
        "colab": {
          "base_uri": "https://localhost:8080/"
        },
        "id": "yf0LNcYS0-Hr",
        "outputId": "7820134f-ec0b-40b3-fd95-505717ec29f8",
        "tags": []
      },
      "source": [
        "from torch import optim\n",
        "import numpy as np\n",
        "from torch.utils.tensorboard import SummaryWriter\n",
        "\n",
        "optimizer = optim.SGD(model.parameters(), lr=0.001, momentum=0.9)\n",
        "loss_fn = nn.BCEWithLogitsLoss()\n",
        "\n",
        "n_epochs = 1\n",
        "writer = SummaryWriter()\n",
        "for epoch in range(n_epochs):\n",
        "  print(f'\\n[Epoch {epoch + 1}/{n_epochs}]\\n')\n",
        "\n",
        "  train_acc, train_loss = train_epoch(model, train_loader, loss_fn, optimizer, device, len(train_dataset))\n",
        "  writer.add_scalar('training loss', train_loss, epoch) \n",
        "  writer.add_scalar('training acc', train_acc, epoch) \n",
        "  print(f'\\nTrain loss {train_loss} accuracy {train_acc}',end='\\n')\n"
      ],
      "execution_count": 56,
      "outputs": [
        {
          "output_type": "stream",
          "name": "stderr",
          "text": [
            "  0%|          | 0/163 [00:00<?, ?it/s]\n",
            "[Epoch 1/1]\n",
            "\n",
            "100%|██████████| 163/163 [01:21<00:00,  1.99it/s]\n",
            "Train loss 0.10732444012937553 accuracy 0.9582055214723927\n",
            "\n"
          ]
        }
      ]
    },
    {
      "cell_type": "code",
      "metadata": {
        "id": "lZDYTb0ujVaF"
      },
      "source": [
        "def validate(net, loader):\n",
        "  #device = torch.device('cuda:0' if torch.cuda.is_available() else 'cpu')\n",
        "  print(\"testing network:\")\n",
        "  correct = 0\n",
        "  total = 0\n",
        "  with torch.no_grad():\n",
        "    for inputs, labels in tqdm(loader):\n",
        "      inputs = inputs.to(device)\n",
        "      labels = labels.unsqueeze(1).to(device)\n",
        "      \n",
        "      outputs = net(inputs)\n",
        "      y_pred = torch.round(torch.sigmoid(outputs))\n",
        "      #correct += torch.sum(y_pred == labels)\n",
        "      correct += (y_pred == labels).sum().float()\n",
        "      total += labels.size(0)\n",
        "    print(\"total accuracy of net: %.2f%%\" % (correct/total*100))\n",
        "    return correct/total"
      ],
      "execution_count": 85,
      "outputs": []
    },
    {
      "cell_type": "code",
      "metadata": {
        "colab": {
          "base_uri": "https://localhost:8080/"
        },
        "id": "0pqu0fx2kHzr",
        "outputId": "4f7952f7-d5c6-4807-b8d6-ec0f4ba9754e"
      },
      "source": [
        "model = model.eval()\n",
        "validate(model, test_loader)"
      ],
      "execution_count": 86,
      "outputs": [
        {
          "output_type": "stream",
          "name": "stderr",
          "text": [
            "  0%|          | 0/624 [00:00<?, ?it/s]testing network:\n",
            "100%|██████████| 624/624 [00:16<00:00, 38.89it/s]total accuracy of net: 95.83%\n",
            "\n"
          ]
        },
        {
          "output_type": "execute_result",
          "data": {
            "text/plain": [
              "tensor(0.9583, device='cuda:0')"
            ]
          },
          "metadata": {},
          "execution_count": 86
        }
      ]
    },
    {
      "cell_type": "code",
      "metadata": {
        "colab": {
          "base_uri": "https://localhost:8080/"
        },
        "id": "h-gR92zOllyg",
        "outputId": "2e625395-fa96-41f5-f876-19959c7d3359"
      },
      "source": [
        "validate(model, val_loader)"
      ],
      "execution_count": 87,
      "outputs": [
        {
          "output_type": "stream",
          "name": "stderr",
          "text": [
            " 31%|███▏      | 5/16 [00:00<00:00, 46.00it/s]testing network:\n",
            "100%|██████████| 16/16 [00:00<00:00, 39.13it/s]total accuracy of net: 93.75%\n",
            "\n"
          ]
        },
        {
          "output_type": "execute_result",
          "data": {
            "text/plain": [
              "tensor(0.9375, device='cuda:0')"
            ]
          },
          "metadata": {},
          "execution_count": 87
        }
      ]
    },
    {
      "cell_type": "code",
      "metadata": {
        "id": "ux3GPktIwHUk"
      },
      "source": [
        "torch.save(model.state_dict(), './models/res.pth')"
      ],
      "execution_count": 32,
      "outputs": []
    },
    {
      "cell_type": "code",
      "execution_count": 6,
      "metadata": {
        "tags": []
      },
      "outputs": [
        {
          "output_type": "execute_result",
          "data": {
            "text/plain": [
              "ResNet(\n",
              "  (conv1): Conv2d(3, 64, kernel_size=(7, 7), stride=(2, 2), padding=(3, 3), bias=False)\n",
              "  (bn1): BatchNorm2d(64, eps=1e-05, momentum=0.1, affine=True, track_running_stats=True)\n",
              "  (relu): ReLU(inplace=True)\n",
              "  (maxpool): MaxPool2d(kernel_size=3, stride=2, padding=1, dilation=1, ceil_mode=False)\n",
              "  (layer1): Sequential(\n",
              "    (0): BasicBlock(\n",
              "      (conv1): Conv2d(64, 64, kernel_size=(3, 3), stride=(1, 1), padding=(1, 1), bias=False)\n",
              "      (bn1): BatchNorm2d(64, eps=1e-05, momentum=0.1, affine=True, track_running_stats=True)\n",
              "      (relu): ReLU(inplace=True)\n",
              "      (conv2): Conv2d(64, 64, kernel_size=(3, 3), stride=(1, 1), padding=(1, 1), bias=False)\n",
              "      (bn2): BatchNorm2d(64, eps=1e-05, momentum=0.1, affine=True, track_running_stats=True)\n",
              "    )\n",
              "    (1): BasicBlock(\n",
              "      (conv1): Conv2d(64, 64, kernel_size=(3, 3), stride=(1, 1), padding=(1, 1), bias=False)\n",
              "      (bn1): BatchNorm2d(64, eps=1e-05, momentum=0.1, affine=True, track_running_stats=True)\n",
              "      (relu): ReLU(inplace=True)\n",
              "      (conv2): Conv2d(64, 64, kernel_size=(3, 3), stride=(1, 1), padding=(1, 1), bias=False)\n",
              "      (bn2): BatchNorm2d(64, eps=1e-05, momentum=0.1, affine=True, track_running_stats=True)\n",
              "    )\n",
              "  )\n",
              "  (layer2): Sequential(\n",
              "    (0): BasicBlock(\n",
              "      (conv1): Conv2d(64, 128, kernel_size=(3, 3), stride=(2, 2), padding=(1, 1), bias=False)\n",
              "      (bn1): BatchNorm2d(128, eps=1e-05, momentum=0.1, affine=True, track_running_stats=True)\n",
              "      (relu): ReLU(inplace=True)\n",
              "      (conv2): Conv2d(128, 128, kernel_size=(3, 3), stride=(1, 1), padding=(1, 1), bias=False)\n",
              "      (bn2): BatchNorm2d(128, eps=1e-05, momentum=0.1, affine=True, track_running_stats=True)\n",
              "      (downsample): Sequential(\n",
              "        (0): Conv2d(64, 128, kernel_size=(1, 1), stride=(2, 2), bias=False)\n",
              "        (1): BatchNorm2d(128, eps=1e-05, momentum=0.1, affine=True, track_running_stats=True)\n",
              "      )\n",
              "    )\n",
              "    (1): BasicBlock(\n",
              "      (conv1): Conv2d(128, 128, kernel_size=(3, 3), stride=(1, 1), padding=(1, 1), bias=False)\n",
              "      (bn1): BatchNorm2d(128, eps=1e-05, momentum=0.1, affine=True, track_running_stats=True)\n",
              "      (relu): ReLU(inplace=True)\n",
              "      (conv2): Conv2d(128, 128, kernel_size=(3, 3), stride=(1, 1), padding=(1, 1), bias=False)\n",
              "      (bn2): BatchNorm2d(128, eps=1e-05, momentum=0.1, affine=True, track_running_stats=True)\n",
              "    )\n",
              "  )\n",
              "  (layer3): Sequential(\n",
              "    (0): BasicBlock(\n",
              "      (conv1): Conv2d(128, 256, kernel_size=(3, 3), stride=(2, 2), padding=(1, 1), bias=False)\n",
              "      (bn1): BatchNorm2d(256, eps=1e-05, momentum=0.1, affine=True, track_running_stats=True)\n",
              "      (relu): ReLU(inplace=True)\n",
              "      (conv2): Conv2d(256, 256, kernel_size=(3, 3), stride=(1, 1), padding=(1, 1), bias=False)\n",
              "      (bn2): BatchNorm2d(256, eps=1e-05, momentum=0.1, affine=True, track_running_stats=True)\n",
              "      (downsample): Sequential(\n",
              "        (0): Conv2d(128, 256, kernel_size=(1, 1), stride=(2, 2), bias=False)\n",
              "        (1): BatchNorm2d(256, eps=1e-05, momentum=0.1, affine=True, track_running_stats=True)\n",
              "      )\n",
              "    )\n",
              "    (1): BasicBlock(\n",
              "      (conv1): Conv2d(256, 256, kernel_size=(3, 3), stride=(1, 1), padding=(1, 1), bias=False)\n",
              "      (bn1): BatchNorm2d(256, eps=1e-05, momentum=0.1, affine=True, track_running_stats=True)\n",
              "      (relu): ReLU(inplace=True)\n",
              "      (conv2): Conv2d(256, 256, kernel_size=(3, 3), stride=(1, 1), padding=(1, 1), bias=False)\n",
              "      (bn2): BatchNorm2d(256, eps=1e-05, momentum=0.1, affine=True, track_running_stats=True)\n",
              "    )\n",
              "  )\n",
              "  (layer4): Sequential(\n",
              "    (0): BasicBlock(\n",
              "      (conv1): Conv2d(256, 512, kernel_size=(3, 3), stride=(2, 2), padding=(1, 1), bias=False)\n",
              "      (bn1): BatchNorm2d(512, eps=1e-05, momentum=0.1, affine=True, track_running_stats=True)\n",
              "      (relu): ReLU(inplace=True)\n",
              "      (conv2): Conv2d(512, 512, kernel_size=(3, 3), stride=(1, 1), padding=(1, 1), bias=False)\n",
              "      (bn2): BatchNorm2d(512, eps=1e-05, momentum=0.1, affine=True, track_running_stats=True)\n",
              "      (downsample): Sequential(\n",
              "        (0): Conv2d(256, 512, kernel_size=(1, 1), stride=(2, 2), bias=False)\n",
              "        (1): BatchNorm2d(512, eps=1e-05, momentum=0.1, affine=True, track_running_stats=True)\n",
              "      )\n",
              "    )\n",
              "    (1): BasicBlock(\n",
              "      (conv1): Conv2d(512, 512, kernel_size=(3, 3), stride=(1, 1), padding=(1, 1), bias=False)\n",
              "      (bn1): BatchNorm2d(512, eps=1e-05, momentum=0.1, affine=True, track_running_stats=True)\n",
              "      (relu): ReLU(inplace=True)\n",
              "      (conv2): Conv2d(512, 512, kernel_size=(3, 3), stride=(1, 1), padding=(1, 1), bias=False)\n",
              "      (bn2): BatchNorm2d(512, eps=1e-05, momentum=0.1, affine=True, track_running_stats=True)\n",
              "    )\n",
              "  )\n",
              "  (avgpool): AdaptiveAvgPool2d(output_size=(1, 1))\n",
              "  (fc): Linear(in_features=512, out_features=1, bias=True)\n",
              ")"
            ]
          },
          "metadata": {},
          "execution_count": 6
        }
      ],
      "source": [
        "model.load_state_dict(torch.load('models/res.pth'))\n",
        "model.to(device)\n",
        "model.eval()\n",
        "# print(model)"
      ]
    },
    {
      "cell_type": "code",
      "execution_count": 88,
      "metadata": {},
      "outputs": [],
      "source": [
        "def validate_confusion(net, loader):\n",
        "    correct = 0\n",
        "    total = 0\n",
        "    cmatrix = torch.zeros(2,2, dtype=torch.int)\n",
        "    with torch.no_grad():\n",
        "        for inputs, labels in tqdm(loader):\n",
        "            inputs = inputs.to(device)\n",
        "            labels = labels.unsqueeze(-1).to(device)\n",
        "\n",
        "            outputs = net(inputs)\n",
        "            y_pred = torch.round(torch.sigmoid(outputs))\n",
        "            stacked = torch.stack((labels, y_pred),dim=1)\n",
        "            for i in stacked:\n",
        "                act, pre = i.tolist()\n",
        "                cmatrix[act,pre] = cmatrix[act, pre] + 1\n",
        "        return cmatrix\n",
        "    "
      ]
    },
    {
      "cell_type": "code",
      "execution_count": 89,
      "metadata": {},
      "outputs": [
        {
          "output_type": "stream",
          "name": "stderr",
          "text": [
            "  0%|          | 0/16 [00:00<?, ?it/s]<ipython-input-88-fa11e0bf9389>:15: DeprecationWarning: an integer is required (got type float).  Implicit conversion to integers using __int__ is deprecated, and may be removed in a future version of Python.\n",
            "  cmatrix[act,pre] = cmatrix[act, pre] + 1\n",
            "100%|██████████| 16/16 [00:00<00:00, 18.63it/s]\n",
            "100%|██████████| 624/624 [00:16<00:00, 38.34it/s]\n"
          ]
        },
        {
          "output_type": "execute_result",
          "data": {
            "text/plain": [
              "tensor([[212,  22],\n",
              "        [  4, 386]], dtype=torch.int32)"
            ]
          },
          "metadata": {},
          "execution_count": 89
        }
      ],
      "source": [
        "\n",
        "\n",
        "val_cmt = validate_confusion(model, val_loader)\n",
        "\n",
        "test_cmt = validate_confusion(model, test_loader)\n",
        "\n",
        "test_cmt"
      ]
    },
    {
      "cell_type": "code",
      "execution_count": 34,
      "metadata": {},
      "outputs": [
        {
          "output_type": "error",
          "ename": "NameError",
          "evalue": "name 'test_cmt' is not defined",
          "traceback": [
            "\u001b[1;31m---------------------------------------------------------------------------\u001b[0m",
            "\u001b[1;31mNameError\u001b[0m                                 Traceback (most recent call last)",
            "\u001b[1;32m<ipython-input-34-db15f26bc56a>\u001b[0m in \u001b[0;36m<module>\u001b[1;34m\u001b[0m\n\u001b[0;32m     31\u001b[0m \u001b[1;31m# plot_confusion_matrix(val_cmt, ['normal','pneumonia'])\u001b[0m\u001b[1;33m\u001b[0m\u001b[1;33m\u001b[0m\u001b[1;33m\u001b[0m\u001b[0m\n\u001b[0;32m     32\u001b[0m \u001b[0mplt\u001b[0m\u001b[1;33m.\u001b[0m\u001b[0mfigure\u001b[0m\u001b[1;33m(\u001b[0m\u001b[0mfigsize\u001b[0m\u001b[1;33m=\u001b[0m\u001b[1;33m(\u001b[0m\u001b[1;36m8\u001b[0m\u001b[1;33m,\u001b[0m\u001b[1;36m8\u001b[0m\u001b[1;33m)\u001b[0m\u001b[1;33m)\u001b[0m\u001b[1;33m\u001b[0m\u001b[1;33m\u001b[0m\u001b[0m\n\u001b[1;32m---> 33\u001b[1;33m \u001b[0mplot_confusion_matrix\u001b[0m\u001b[1;33m(\u001b[0m\u001b[0mtest_cmt\u001b[0m\u001b[1;33m,\u001b[0m \u001b[1;33m[\u001b[0m\u001b[1;34m'normal'\u001b[0m\u001b[1;33m,\u001b[0m\u001b[1;34m'pneumonia'\u001b[0m\u001b[1;33m]\u001b[0m\u001b[1;33m)\u001b[0m\u001b[1;33m\u001b[0m\u001b[1;33m\u001b[0m\u001b[0m\n\u001b[0m",
            "\u001b[1;31mNameError\u001b[0m: name 'test_cmt' is not defined"
          ]
        }
      ],
      "source": [
        "import itertools\n",
        "import numpy as np\n",
        "import matplotlib.pyplot as plt\n",
        "\n",
        "def plot_confusion_matrix(cm, classes, normalize=False, title='Confusion matrix', cmap=plt.cm.Blues):\n",
        "    if normalize:\n",
        "        cm = cm.astype('float') / cm.sum(axis=1)[:, np.newaxis]\n",
        "        print(\"Normalized confusion matrix\")\n",
        "    else:\n",
        "        print('Confusion matrix, without normalization')\n",
        "\n",
        "    # print(cm)\n",
        "    plt.imshow(cm, interpolation='nearest', cmap=cmap)\n",
        "    plt.title(title)\n",
        "    plt.colorbar()\n",
        "    tick_marks = np.arange(len(classes))\n",
        "    plt.xticks(tick_marks, classes, rotation=45)\n",
        "    plt.yticks(tick_marks, classes)\n",
        "\n",
        "    fmt = '.2f' if normalize else 'd'\n",
        "    thresh = cm.max() / 2.\n",
        "    for i, j in itertools.product(range(cm.shape[0]), range(cm.shape[1])):\n",
        "        plt.text(j, i, format(cm[i, j], fmt), horizontalalignment=\"center\", color=\"white\" if cm[i, j] > thresh else \"black\")\n",
        "\n",
        "    plt.tight_layout()\n",
        "    plt.ylabel('True label')\n",
        "    plt.xlabel('Predicted label')\n",
        "    \n",
        "    # writer.add_figure('Confusion matrix', fig)\n",
        "\n",
        "# plot_confusion_matrix(val_cmt, ['normal','pneumonia'])\n",
        "plt.figure(figsize=(8,8))\n",
        "plot_confusion_matrix(test_cmt, ['normal','pneumonia'])"
      ]
    },
    {
      "source": [
        "## GRAD-Cam:\n",
        "For more general information [Grad-cam](http://gradcam.cloudcv.org/).\n",
        "The Goal is to visualize the gradiant classification on the final Relu layer. The hope is trasform this gradiant into a heat map to in more detail see what it missclassify. In Medical field this could be very usefull. \n",
        "\n",
        "Similar work : [Lightweight_Deep_Learning_Models_for_Detecting_COVID-19_from_Chest_X-ray](https://www.researchgate.net/publication/347489450_Lightweight_Deep_Learning_Models_for_Detecting_COVID-19_from_Chest_X-ray_Images#pf11)\n",
        "\n",
        "### Implementation\n",
        "For implementing grad-cam we hooked the final layer of the resnet18 to a pytorch hook, and registerd the gradiants. Then with OpenCV2 constructed an heatmap and superimposed it to the input image.\n",
        "\n"
      ],
      "cell_type": "markdown",
      "metadata": {}
    },
    {
      "cell_type": "code",
      "execution_count": 46,
      "metadata": {},
      "outputs": [],
      "source": [
        "# original Github https://github.com/kazuto1011/grad-cam-pytorch/blob/master/main.py\n",
        "from grad_cam import (\n",
        "    BackPropagation,\n",
        "    Deconvnet,\n",
        "    GradCAM,\n",
        "    GuidedBackPropagation,\n",
        "    occlusion_sensitivity,\n",
        ")\n",
        "\n",
        "def get_heatmap(images, target_class=1,target_layers = [\"layer1\", \"layer2\", \"layer3\", \"layer4\"]):\n",
        "\n",
        "    gcam = GradCAM(model=model)\n",
        "    pred, _id = gcam.forward(images)\n",
        "    gcam.backward(ids=_id)\n",
        "\n",
        "    for i,target_layer in enumerate(target_layers):\n",
        "        if i == 0:\n",
        "            regions= gcam.generate(target_layer=target_layer)\n",
        "        region = (gcam.generate(target_layer=target_layer))\n",
        "        regions = torch.cat((region, regions), dim=1)\n",
        "        # print(target_layer, region.size())\n",
        "\n",
        "\n",
        "    return torch.mean(regions, dim=1).squeeze()"
      ]
    },
    {
      "cell_type": "code",
      "execution_count": 47,
      "metadata": {},
      "outputs": [],
      "source": [
        "import cv2\n",
        "import numpy as np\n",
        "def grad_cam(img, heatmap):\n",
        "    heatmap = cv2.resize(heatmap, (img.shape[1], img.shape[0]))\n",
        "    heatmap = np.uint8(255 * heatmap)\n",
        "    \n",
        "    heatmap = cv2.applyColorMap(heatmap, cv2.COLORMAP_JET)\n",
        "    superimposed_img = heatmap * 0.4 + img\n",
        "    cv2.imwrite('./map.jpg', superimposed_img)"
      ]
    },
    {
      "cell_type": "code",
      "execution_count": 74,
      "metadata": {},
      "outputs": [
        {
          "output_type": "error",
          "ename": "RuntimeError",
          "evalue": "CUDA out of memory. Tried to allocate 32.00 MiB (GPU 0; 4.00 GiB total capacity; 2.64 GiB already allocated; 7.74 MiB free; 2.71 GiB reserved in total by PyTorch)",
          "traceback": [
            "\u001b[1;31m---------------------------------------------------------------------------\u001b[0m",
            "\u001b[1;31mRuntimeError\u001b[0m                              Traceback (most recent call last)",
            "\u001b[1;32m<ipython-input-74-307662ad653a>\u001b[0m in \u001b[0;36m<module>\u001b[1;34m\u001b[0m\n\u001b[0;32m      2\u001b[0m \u001b[0mc\u001b[0m \u001b[1;33m=\u001b[0m \u001b[1;33m{\u001b[0m\u001b[1;36m0\u001b[0m\u001b[1;33m:\u001b[0m \u001b[1;34m\"Normal\"\u001b[0m\u001b[1;33m,\u001b[0m \u001b[1;36m1\u001b[0m\u001b[1;33m:\u001b[0m \u001b[1;34m\"Pnemonia\"\u001b[0m\u001b[1;33m}\u001b[0m\u001b[1;33m\u001b[0m\u001b[1;33m\u001b[0m\u001b[0m\n\u001b[0;32m      3\u001b[0m \u001b[0mimages\u001b[0m \u001b[1;33m=\u001b[0m \u001b[0mimages\u001b[0m\u001b[1;33m.\u001b[0m\u001b[0mto\u001b[0m\u001b[1;33m(\u001b[0m\u001b[0mdevice\u001b[0m\u001b[1;33m)\u001b[0m\u001b[1;33m\u001b[0m\u001b[1;33m\u001b[0m\u001b[0m\n\u001b[1;32m----> 4\u001b[1;33m \u001b[0mtest\u001b[0m \u001b[1;33m=\u001b[0m \u001b[0mget_heatmap\u001b[0m\u001b[1;33m(\u001b[0m\u001b[0mimages\u001b[0m\u001b[1;33m,\u001b[0m \u001b[0mtarget_layers\u001b[0m\u001b[1;33m=\u001b[0m\u001b[1;33m[\u001b[0m\u001b[1;34m\"layer4\"\u001b[0m\u001b[1;33m]\u001b[0m\u001b[1;33m)\u001b[0m\u001b[1;33m\u001b[0m\u001b[1;33m\u001b[0m\u001b[0m\n\u001b[0m\u001b[0;32m      5\u001b[0m \u001b[0mimages\u001b[0m \u001b[1;33m=\u001b[0m  \u001b[0mimages\u001b[0m\u001b[1;33m.\u001b[0m\u001b[0mpermute\u001b[0m\u001b[1;33m(\u001b[0m\u001b[1;36m0\u001b[0m\u001b[1;33m,\u001b[0m\u001b[1;36m3\u001b[0m\u001b[1;33m,\u001b[0m\u001b[1;36m2\u001b[0m\u001b[1;33m,\u001b[0m\u001b[1;36m1\u001b[0m\u001b[1;33m)\u001b[0m\u001b[1;33m\u001b[0m\u001b[1;33m\u001b[0m\u001b[0m\n\u001b[0;32m      6\u001b[0m \u001b[0mimages\u001b[0m \u001b[1;33m=\u001b[0m \u001b[0mimages\u001b[0m\u001b[1;33m.\u001b[0m\u001b[0mcpu\u001b[0m\u001b[1;33m(\u001b[0m\u001b[1;33m)\u001b[0m\u001b[1;33m.\u001b[0m\u001b[0mnumpy\u001b[0m\u001b[1;33m(\u001b[0m\u001b[1;33m)\u001b[0m\u001b[1;33m\u001b[0m\u001b[1;33m\u001b[0m\u001b[0m\n",
            "\u001b[1;32m<ipython-input-46-a51a4d727ddb>\u001b[0m in \u001b[0;36mget_heatmap\u001b[1;34m(images, target_class, target_layers)\u001b[0m\n\u001b[0;32m     11\u001b[0m \u001b[1;33m\u001b[0m\u001b[0m\n\u001b[0;32m     12\u001b[0m     \u001b[0mgcam\u001b[0m \u001b[1;33m=\u001b[0m \u001b[0mGradCAM\u001b[0m\u001b[1;33m(\u001b[0m\u001b[0mmodel\u001b[0m\u001b[1;33m=\u001b[0m\u001b[0mmodel\u001b[0m\u001b[1;33m)\u001b[0m\u001b[1;33m\u001b[0m\u001b[1;33m\u001b[0m\u001b[0m\n\u001b[1;32m---> 13\u001b[1;33m     \u001b[0mpred\u001b[0m\u001b[1;33m,\u001b[0m \u001b[0m_id\u001b[0m \u001b[1;33m=\u001b[0m \u001b[0mgcam\u001b[0m\u001b[1;33m.\u001b[0m\u001b[0mforward\u001b[0m\u001b[1;33m(\u001b[0m\u001b[0mimages\u001b[0m\u001b[1;33m)\u001b[0m\u001b[1;33m\u001b[0m\u001b[1;33m\u001b[0m\u001b[0m\n\u001b[0m\u001b[0;32m     14\u001b[0m     \u001b[0mgcam\u001b[0m\u001b[1;33m.\u001b[0m\u001b[0mbackward\u001b[0m\u001b[1;33m(\u001b[0m\u001b[0mids\u001b[0m\u001b[1;33m=\u001b[0m\u001b[0m_id\u001b[0m\u001b[1;33m)\u001b[0m\u001b[1;33m\u001b[0m\u001b[1;33m\u001b[0m\u001b[0m\n\u001b[0;32m     15\u001b[0m \u001b[1;33m\u001b[0m\u001b[0m\n",
            "\u001b[1;32mc:\\Users\\johan\\Documents\\Git\\D7047E\\grad_cam.py\u001b[0m in \u001b[0;36mforward\u001b[1;34m(self, image)\u001b[0m\n\u001b[0;32m     30\u001b[0m     \u001b[1;32mdef\u001b[0m \u001b[0mforward\u001b[0m\u001b[1;33m(\u001b[0m\u001b[0mself\u001b[0m\u001b[1;33m,\u001b[0m \u001b[0mimage\u001b[0m\u001b[1;33m)\u001b[0m\u001b[1;33m:\u001b[0m\u001b[1;33m\u001b[0m\u001b[1;33m\u001b[0m\u001b[0m\n\u001b[0;32m     31\u001b[0m         \u001b[0mself\u001b[0m\u001b[1;33m.\u001b[0m\u001b[0mimage_shape\u001b[0m \u001b[1;33m=\u001b[0m \u001b[0mimage\u001b[0m\u001b[1;33m.\u001b[0m\u001b[0mshape\u001b[0m\u001b[1;33m[\u001b[0m\u001b[1;36m2\u001b[0m\u001b[1;33m:\u001b[0m\u001b[1;33m]\u001b[0m\u001b[1;33m\u001b[0m\u001b[1;33m\u001b[0m\u001b[0m\n\u001b[1;32m---> 32\u001b[1;33m         \u001b[0mself\u001b[0m\u001b[1;33m.\u001b[0m\u001b[0mlogits\u001b[0m \u001b[1;33m=\u001b[0m \u001b[0mself\u001b[0m\u001b[1;33m.\u001b[0m\u001b[0mmodel\u001b[0m\u001b[1;33m(\u001b[0m\u001b[0mimage\u001b[0m\u001b[1;33m)\u001b[0m\u001b[1;33m\u001b[0m\u001b[1;33m\u001b[0m\u001b[0m\n\u001b[0m\u001b[0;32m     33\u001b[0m         \u001b[0mself\u001b[0m\u001b[1;33m.\u001b[0m\u001b[0mprobs\u001b[0m \u001b[1;33m=\u001b[0m \u001b[0mF\u001b[0m\u001b[1;33m.\u001b[0m\u001b[0msoftmax\u001b[0m\u001b[1;33m(\u001b[0m\u001b[0mself\u001b[0m\u001b[1;33m.\u001b[0m\u001b[0mlogits\u001b[0m\u001b[1;33m,\u001b[0m \u001b[0mdim\u001b[0m\u001b[1;33m=\u001b[0m\u001b[1;36m1\u001b[0m\u001b[1;33m)\u001b[0m\u001b[1;33m\u001b[0m\u001b[1;33m\u001b[0m\u001b[0m\n\u001b[0;32m     34\u001b[0m         \u001b[1;32mreturn\u001b[0m \u001b[0mself\u001b[0m\u001b[1;33m.\u001b[0m\u001b[0mprobs\u001b[0m\u001b[1;33m.\u001b[0m\u001b[0msort\u001b[0m\u001b[1;33m(\u001b[0m\u001b[0mdim\u001b[0m\u001b[1;33m=\u001b[0m\u001b[1;36m1\u001b[0m\u001b[1;33m,\u001b[0m \u001b[0mdescending\u001b[0m\u001b[1;33m=\u001b[0m\u001b[1;32mTrue\u001b[0m\u001b[1;33m)\u001b[0m  \u001b[1;31m# ordered results\u001b[0m\u001b[1;33m\u001b[0m\u001b[1;33m\u001b[0m\u001b[0m\n",
            "\u001b[1;32mC:\\Python39\\lib\\site-packages\\torch\\nn\\modules\\module.py\u001b[0m in \u001b[0;36m_call_impl\u001b[1;34m(self, *input, **kwargs)\u001b[0m\n\u001b[0;32m    887\u001b[0m             \u001b[0mresult\u001b[0m \u001b[1;33m=\u001b[0m \u001b[0mself\u001b[0m\u001b[1;33m.\u001b[0m\u001b[0m_slow_forward\u001b[0m\u001b[1;33m(\u001b[0m\u001b[1;33m*\u001b[0m\u001b[0minput\u001b[0m\u001b[1;33m,\u001b[0m \u001b[1;33m**\u001b[0m\u001b[0mkwargs\u001b[0m\u001b[1;33m)\u001b[0m\u001b[1;33m\u001b[0m\u001b[1;33m\u001b[0m\u001b[0m\n\u001b[0;32m    888\u001b[0m         \u001b[1;32melse\u001b[0m\u001b[1;33m:\u001b[0m\u001b[1;33m\u001b[0m\u001b[1;33m\u001b[0m\u001b[0m\n\u001b[1;32m--> 889\u001b[1;33m             \u001b[0mresult\u001b[0m \u001b[1;33m=\u001b[0m \u001b[0mself\u001b[0m\u001b[1;33m.\u001b[0m\u001b[0mforward\u001b[0m\u001b[1;33m(\u001b[0m\u001b[1;33m*\u001b[0m\u001b[0minput\u001b[0m\u001b[1;33m,\u001b[0m \u001b[1;33m**\u001b[0m\u001b[0mkwargs\u001b[0m\u001b[1;33m)\u001b[0m\u001b[1;33m\u001b[0m\u001b[1;33m\u001b[0m\u001b[0m\n\u001b[0m\u001b[0;32m    890\u001b[0m         for hook in itertools.chain(\n\u001b[0;32m    891\u001b[0m                 \u001b[0m_global_forward_hooks\u001b[0m\u001b[1;33m.\u001b[0m\u001b[0mvalues\u001b[0m\u001b[1;33m(\u001b[0m\u001b[1;33m)\u001b[0m\u001b[1;33m,\u001b[0m\u001b[1;33m\u001b[0m\u001b[1;33m\u001b[0m\u001b[0m\n",
            "\u001b[1;32mC:\\Python39\\lib\\site-packages\\torchvision\\models\\resnet.py\u001b[0m in \u001b[0;36mforward\u001b[1;34m(self, x)\u001b[0m\n\u001b[0;32m    247\u001b[0m \u001b[1;33m\u001b[0m\u001b[0m\n\u001b[0;32m    248\u001b[0m     \u001b[1;32mdef\u001b[0m \u001b[0mforward\u001b[0m\u001b[1;33m(\u001b[0m\u001b[0mself\u001b[0m\u001b[1;33m,\u001b[0m \u001b[0mx\u001b[0m\u001b[1;33m:\u001b[0m \u001b[0mTensor\u001b[0m\u001b[1;33m)\u001b[0m \u001b[1;33m->\u001b[0m \u001b[0mTensor\u001b[0m\u001b[1;33m:\u001b[0m\u001b[1;33m\u001b[0m\u001b[1;33m\u001b[0m\u001b[0m\n\u001b[1;32m--> 249\u001b[1;33m         \u001b[1;32mreturn\u001b[0m \u001b[0mself\u001b[0m\u001b[1;33m.\u001b[0m\u001b[0m_forward_impl\u001b[0m\u001b[1;33m(\u001b[0m\u001b[0mx\u001b[0m\u001b[1;33m)\u001b[0m\u001b[1;33m\u001b[0m\u001b[1;33m\u001b[0m\u001b[0m\n\u001b[0m\u001b[0;32m    250\u001b[0m \u001b[1;33m\u001b[0m\u001b[0m\n\u001b[0;32m    251\u001b[0m \u001b[1;33m\u001b[0m\u001b[0m\n",
            "\u001b[1;32mC:\\Python39\\lib\\site-packages\\torchvision\\models\\resnet.py\u001b[0m in \u001b[0;36m_forward_impl\u001b[1;34m(self, x)\u001b[0m\n\u001b[0;32m    230\u001b[0m     \u001b[1;32mdef\u001b[0m \u001b[0m_forward_impl\u001b[0m\u001b[1;33m(\u001b[0m\u001b[0mself\u001b[0m\u001b[1;33m,\u001b[0m \u001b[0mx\u001b[0m\u001b[1;33m:\u001b[0m \u001b[0mTensor\u001b[0m\u001b[1;33m)\u001b[0m \u001b[1;33m->\u001b[0m \u001b[0mTensor\u001b[0m\u001b[1;33m:\u001b[0m\u001b[1;33m\u001b[0m\u001b[1;33m\u001b[0m\u001b[0m\n\u001b[0;32m    231\u001b[0m         \u001b[1;31m# See note [TorchScript super()]\u001b[0m\u001b[1;33m\u001b[0m\u001b[1;33m\u001b[0m\u001b[1;33m\u001b[0m\u001b[0m\n\u001b[1;32m--> 232\u001b[1;33m         \u001b[0mx\u001b[0m \u001b[1;33m=\u001b[0m \u001b[0mself\u001b[0m\u001b[1;33m.\u001b[0m\u001b[0mconv1\u001b[0m\u001b[1;33m(\u001b[0m\u001b[0mx\u001b[0m\u001b[1;33m)\u001b[0m\u001b[1;33m\u001b[0m\u001b[1;33m\u001b[0m\u001b[0m\n\u001b[0m\u001b[0;32m    233\u001b[0m         \u001b[0mx\u001b[0m \u001b[1;33m=\u001b[0m \u001b[0mself\u001b[0m\u001b[1;33m.\u001b[0m\u001b[0mbn1\u001b[0m\u001b[1;33m(\u001b[0m\u001b[0mx\u001b[0m\u001b[1;33m)\u001b[0m\u001b[1;33m\u001b[0m\u001b[1;33m\u001b[0m\u001b[0m\n\u001b[0;32m    234\u001b[0m         \u001b[0mx\u001b[0m \u001b[1;33m=\u001b[0m \u001b[0mself\u001b[0m\u001b[1;33m.\u001b[0m\u001b[0mrelu\u001b[0m\u001b[1;33m(\u001b[0m\u001b[0mx\u001b[0m\u001b[1;33m)\u001b[0m\u001b[1;33m\u001b[0m\u001b[1;33m\u001b[0m\u001b[0m\n",
            "\u001b[1;32mC:\\Python39\\lib\\site-packages\\torch\\nn\\modules\\module.py\u001b[0m in \u001b[0;36m_call_impl\u001b[1;34m(self, *input, **kwargs)\u001b[0m\n\u001b[0;32m    887\u001b[0m             \u001b[0mresult\u001b[0m \u001b[1;33m=\u001b[0m \u001b[0mself\u001b[0m\u001b[1;33m.\u001b[0m\u001b[0m_slow_forward\u001b[0m\u001b[1;33m(\u001b[0m\u001b[1;33m*\u001b[0m\u001b[0minput\u001b[0m\u001b[1;33m,\u001b[0m \u001b[1;33m**\u001b[0m\u001b[0mkwargs\u001b[0m\u001b[1;33m)\u001b[0m\u001b[1;33m\u001b[0m\u001b[1;33m\u001b[0m\u001b[0m\n\u001b[0;32m    888\u001b[0m         \u001b[1;32melse\u001b[0m\u001b[1;33m:\u001b[0m\u001b[1;33m\u001b[0m\u001b[1;33m\u001b[0m\u001b[0m\n\u001b[1;32m--> 889\u001b[1;33m             \u001b[0mresult\u001b[0m \u001b[1;33m=\u001b[0m \u001b[0mself\u001b[0m\u001b[1;33m.\u001b[0m\u001b[0mforward\u001b[0m\u001b[1;33m(\u001b[0m\u001b[1;33m*\u001b[0m\u001b[0minput\u001b[0m\u001b[1;33m,\u001b[0m \u001b[1;33m**\u001b[0m\u001b[0mkwargs\u001b[0m\u001b[1;33m)\u001b[0m\u001b[1;33m\u001b[0m\u001b[1;33m\u001b[0m\u001b[0m\n\u001b[0m\u001b[0;32m    890\u001b[0m         for hook in itertools.chain(\n\u001b[0;32m    891\u001b[0m                 \u001b[0m_global_forward_hooks\u001b[0m\u001b[1;33m.\u001b[0m\u001b[0mvalues\u001b[0m\u001b[1;33m(\u001b[0m\u001b[1;33m)\u001b[0m\u001b[1;33m,\u001b[0m\u001b[1;33m\u001b[0m\u001b[1;33m\u001b[0m\u001b[0m\n",
            "\u001b[1;32mC:\\Python39\\lib\\site-packages\\torch\\nn\\modules\\conv.py\u001b[0m in \u001b[0;36mforward\u001b[1;34m(self, input)\u001b[0m\n\u001b[0;32m    397\u001b[0m \u001b[1;33m\u001b[0m\u001b[0m\n\u001b[0;32m    398\u001b[0m     \u001b[1;32mdef\u001b[0m \u001b[0mforward\u001b[0m\u001b[1;33m(\u001b[0m\u001b[0mself\u001b[0m\u001b[1;33m,\u001b[0m \u001b[0minput\u001b[0m\u001b[1;33m:\u001b[0m \u001b[0mTensor\u001b[0m\u001b[1;33m)\u001b[0m \u001b[1;33m->\u001b[0m \u001b[0mTensor\u001b[0m\u001b[1;33m:\u001b[0m\u001b[1;33m\u001b[0m\u001b[1;33m\u001b[0m\u001b[0m\n\u001b[1;32m--> 399\u001b[1;33m         \u001b[1;32mreturn\u001b[0m \u001b[0mself\u001b[0m\u001b[1;33m.\u001b[0m\u001b[0m_conv_forward\u001b[0m\u001b[1;33m(\u001b[0m\u001b[0minput\u001b[0m\u001b[1;33m,\u001b[0m \u001b[0mself\u001b[0m\u001b[1;33m.\u001b[0m\u001b[0mweight\u001b[0m\u001b[1;33m,\u001b[0m \u001b[0mself\u001b[0m\u001b[1;33m.\u001b[0m\u001b[0mbias\u001b[0m\u001b[1;33m)\u001b[0m\u001b[1;33m\u001b[0m\u001b[1;33m\u001b[0m\u001b[0m\n\u001b[0m\u001b[0;32m    400\u001b[0m \u001b[1;33m\u001b[0m\u001b[0m\n\u001b[0;32m    401\u001b[0m \u001b[1;32mclass\u001b[0m \u001b[0mConv3d\u001b[0m\u001b[1;33m(\u001b[0m\u001b[0m_ConvNd\u001b[0m\u001b[1;33m)\u001b[0m\u001b[1;33m:\u001b[0m\u001b[1;33m\u001b[0m\u001b[1;33m\u001b[0m\u001b[0m\n",
            "\u001b[1;32mC:\\Python39\\lib\\site-packages\\torch\\nn\\modules\\conv.py\u001b[0m in \u001b[0;36m_conv_forward\u001b[1;34m(self, input, weight, bias)\u001b[0m\n\u001b[0;32m    393\u001b[0m                             \u001b[0mweight\u001b[0m\u001b[1;33m,\u001b[0m \u001b[0mbias\u001b[0m\u001b[1;33m,\u001b[0m \u001b[0mself\u001b[0m\u001b[1;33m.\u001b[0m\u001b[0mstride\u001b[0m\u001b[1;33m,\u001b[0m\u001b[1;33m\u001b[0m\u001b[1;33m\u001b[0m\u001b[0m\n\u001b[0;32m    394\u001b[0m                             _pair(0), self.dilation, self.groups)\n\u001b[1;32m--> 395\u001b[1;33m         return F.conv2d(input, weight, bias, self.stride,\n\u001b[0m\u001b[0;32m    396\u001b[0m                         self.padding, self.dilation, self.groups)\n\u001b[0;32m    397\u001b[0m \u001b[1;33m\u001b[0m\u001b[0m\n",
            "\u001b[1;31mRuntimeError\u001b[0m: CUDA out of memory. Tried to allocate 32.00 MiB (GPU 0; 4.00 GiB total capacity; 2.64 GiB already allocated; 7.74 MiB free; 2.71 GiB reserved in total by PyTorch)"
          ]
        }
      ],
      "source": [
        "images, id_ = next(iter(test_loader))\n",
        "c = {0: \"Normal\", 1: \"Pnemonia\"}\n",
        "images = images.to(device)\n",
        "test = get_heatmap(images, target_layers=[\"layer4\"])\n",
        "images =  images.permute(0,3,2,1)\n",
        "images = images.cpu().numpy()\n",
        "test = test.cpu().numpy()\n",
        "test = np.vstack([test])\n",
        "\n",
        "print(test.shape, images[0].shape)\n",
        "# grad_cam(images[0], test)\n",
        "# cv2.waitKey(0)\n",
        "# cv2.destroyAllWindows()\n",
        "plt.imshow(images[0])\n",
        "print(c[id_[0].item()])"
      ]
    },
    {
      "cell_type": "code",
      "execution_count": 72,
      "metadata": {},
      "outputs": [
        {
          "output_type": "execute_result",
          "data": {
            "text/plain": [
              "<matplotlib.image.AxesImage at 0x2106d8d0490>"
            ]
          },
          "metadata": {},
          "execution_count": 72
        },
        {
          "output_type": "display_data",
          "data": {
            "text/plain": "<Figure size 432x288 with 1 Axes>",
            "image/svg+xml": "<?xml version=\"1.0\" encoding=\"utf-8\" standalone=\"no\"?>\r\n<!DOCTYPE svg PUBLIC \"-//W3C//DTD SVG 1.1//EN\"\r\n  \"http://www.w3.org/Graphics/SVG/1.1/DTD/svg11.dtd\">\r\n<svg height=\"251.892656pt\" version=\"1.1\" viewBox=\"0 0 262.799687 251.892656\" width=\"262.799687pt\" xmlns=\"http://www.w3.org/2000/svg\" xmlns:xlink=\"http://www.w3.org/1999/xlink\">\r\n <metadata>\r\n  <rdf:RDF xmlns:cc=\"http://creativecommons.org/ns#\" xmlns:dc=\"http://purl.org/dc/elements/1.1/\" xmlns:rdf=\"http://www.w3.org/1999/02/22-rdf-syntax-ns#\">\r\n   <cc:Work>\r\n    <dc:type rdf:resource=\"http://purl.org/dc/dcmitype/StillImage\"/>\r\n    <dc:date>2021-05-14T19:43:53.637770</dc:date>\r\n    <dc:format>image/svg+xml</dc:format>\r\n    <dc:creator>\r\n     <cc:Agent>\r\n      <dc:title>Matplotlib v3.4.1, https://matplotlib.org/</dc:title>\r\n     </cc:Agent>\r\n    </dc:creator>\r\n   </cc:Work>\r\n  </rdf:RDF>\r\n </metadata>\r\n <defs>\r\n  <style type=\"text/css\">*{stroke-linecap:butt;stroke-linejoin:round;}</style>\r\n </defs>\r\n <g id=\"figure_1\">\r\n  <g id=\"patch_1\">\r\n   <path d=\"M 0 251.892656 \r\nL 262.799687 251.892656 \r\nL 262.799687 0 \r\nL 0 0 \r\nz\r\n\" style=\"fill:none;\"/>\r\n  </g>\r\n  <g id=\"axes_1\">\r\n   <g id=\"patch_2\">\r\n    <path d=\"M 33.2875 228.014531 \r\nL 250.7275 228.014531 \r\nL 250.7275 10.574531 \r\nL 33.2875 10.574531 \r\nz\r\n\" style=\"fill:#ffffff;\"/>\r\n   </g>\r\n   <g clip-path=\"url(#pc44a4409e1)\">\r\n    <image height=\"218\" id=\"image9e0c0554e2\" transform=\"scale(1 -1)translate(0 -218)\" width=\"218\" x=\"33.2875\" xlink:href=\"data:image/png;base64,\r\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\" y=\"-10.014531\"/>\r\n   </g>\r\n   <g id=\"matplotlib.axis_1\">\r\n    <g id=\"xtick_1\">\r\n     <g id=\"line2d_1\">\r\n      <defs>\r\n       <path d=\"M 0 0 \r\nL 0 3.5 \r\n\" id=\"m2bc9711fc6\" style=\"stroke:#000000;stroke-width:0.8;\"/>\r\n      </defs>\r\n      <g>\r\n       <use style=\"stroke:#000000;stroke-width:0.8;\" x=\"33.712188\" xlink:href=\"#m2bc9711fc6\" y=\"228.014531\"/>\r\n      </g>\r\n     </g>\r\n     <g id=\"text_1\">\r\n      <!-- 0 -->\r\n      <g transform=\"translate(30.530938 242.612969)scale(0.1 -0.1)\">\r\n       <defs>\r\n        <path d=\"M 2034 4250 \r\nQ 1547 4250 1301 3770 \r\nQ 1056 3291 1056 2328 \r\nQ 1056 1369 1301 889 \r\nQ 1547 409 2034 409 \r\nQ 2525 409 2770 889 \r\nQ 3016 1369 3016 2328 \r\nQ 3016 3291 2770 3770 \r\nQ 2525 4250 2034 4250 \r\nz\r\nM 2034 4750 \r\nQ 2819 4750 3233 4129 \r\nQ 3647 3509 3647 2328 \r\nQ 3647 1150 3233 529 \r\nQ 2819 -91 2034 -91 \r\nQ 1250 -91 836 529 \r\nQ 422 1150 422 2328 \r\nQ 422 3509 836 4129 \r\nQ 1250 4750 2034 4750 \r\nz\r\n\" id=\"DejaVuSans-30\" transform=\"scale(0.015625)\"/>\r\n       </defs>\r\n       <use xlink:href=\"#DejaVuSans-30\"/>\r\n      </g>\r\n     </g>\r\n    </g>\r\n    <g id=\"xtick_2\">\r\n     <g id=\"line2d_2\">\r\n      <g>\r\n       <use style=\"stroke:#000000;stroke-width:0.8;\" x=\"76.180937\" xlink:href=\"#m2bc9711fc6\" y=\"228.014531\"/>\r\n      </g>\r\n     </g>\r\n     <g id=\"text_2\">\r\n      <!-- 50 -->\r\n      <g transform=\"translate(69.818438 242.612969)scale(0.1 -0.1)\">\r\n       <defs>\r\n        <path d=\"M 691 4666 \r\nL 3169 4666 \r\nL 3169 4134 \r\nL 1269 4134 \r\nL 1269 2991 \r\nQ 1406 3038 1543 3061 \r\nQ 1681 3084 1819 3084 \r\nQ 2600 3084 3056 2656 \r\nQ 3513 2228 3513 1497 \r\nQ 3513 744 3044 326 \r\nQ 2575 -91 1722 -91 \r\nQ 1428 -91 1123 -41 \r\nQ 819 9 494 109 \r\nL 494 744 \r\nQ 775 591 1075 516 \r\nQ 1375 441 1709 441 \r\nQ 2250 441 2565 725 \r\nQ 2881 1009 2881 1497 \r\nQ 2881 1984 2565 2268 \r\nQ 2250 2553 1709 2553 \r\nQ 1456 2553 1204 2497 \r\nQ 953 2441 691 2322 \r\nL 691 4666 \r\nz\r\n\" id=\"DejaVuSans-35\" transform=\"scale(0.015625)\"/>\r\n       </defs>\r\n       <use xlink:href=\"#DejaVuSans-35\"/>\r\n       <use x=\"63.623047\" xlink:href=\"#DejaVuSans-30\"/>\r\n      </g>\r\n     </g>\r\n    </g>\r\n    <g id=\"xtick_3\">\r\n     <g id=\"line2d_3\">\r\n      <g>\r\n       <use style=\"stroke:#000000;stroke-width:0.8;\" x=\"118.649687\" xlink:href=\"#m2bc9711fc6\" y=\"228.014531\"/>\r\n      </g>\r\n     </g>\r\n     <g id=\"text_3\">\r\n      <!-- 100 -->\r\n      <g transform=\"translate(109.105937 242.612969)scale(0.1 -0.1)\">\r\n       <defs>\r\n        <path d=\"M 794 531 \r\nL 1825 531 \r\nL 1825 4091 \r\nL 703 3866 \r\nL 703 4441 \r\nL 1819 4666 \r\nL 2450 4666 \r\nL 2450 531 \r\nL 3481 531 \r\nL 3481 0 \r\nL 794 0 \r\nL 794 531 \r\nz\r\n\" id=\"DejaVuSans-31\" transform=\"scale(0.015625)\"/>\r\n       </defs>\r\n       <use xlink:href=\"#DejaVuSans-31\"/>\r\n       <use x=\"63.623047\" xlink:href=\"#DejaVuSans-30\"/>\r\n       <use x=\"127.246094\" xlink:href=\"#DejaVuSans-30\"/>\r\n      </g>\r\n     </g>\r\n    </g>\r\n    <g id=\"xtick_4\">\r\n     <g id=\"line2d_4\">\r\n      <g>\r\n       <use style=\"stroke:#000000;stroke-width:0.8;\" x=\"161.118437\" xlink:href=\"#m2bc9711fc6\" y=\"228.014531\"/>\r\n      </g>\r\n     </g>\r\n     <g id=\"text_4\">\r\n      <!-- 150 -->\r\n      <g transform=\"translate(151.574688 242.612969)scale(0.1 -0.1)\">\r\n       <use xlink:href=\"#DejaVuSans-31\"/>\r\n       <use x=\"63.623047\" xlink:href=\"#DejaVuSans-35\"/>\r\n       <use x=\"127.246094\" xlink:href=\"#DejaVuSans-30\"/>\r\n      </g>\r\n     </g>\r\n    </g>\r\n    <g id=\"xtick_5\">\r\n     <g id=\"line2d_5\">\r\n      <g>\r\n       <use style=\"stroke:#000000;stroke-width:0.8;\" x=\"203.587187\" xlink:href=\"#m2bc9711fc6\" y=\"228.014531\"/>\r\n      </g>\r\n     </g>\r\n     <g id=\"text_5\">\r\n      <!-- 200 -->\r\n      <g transform=\"translate(194.043438 242.612969)scale(0.1 -0.1)\">\r\n       <defs>\r\n        <path d=\"M 1228 531 \r\nL 3431 531 \r\nL 3431 0 \r\nL 469 0 \r\nL 469 531 \r\nQ 828 903 1448 1529 \r\nQ 2069 2156 2228 2338 \r\nQ 2531 2678 2651 2914 \r\nQ 2772 3150 2772 3378 \r\nQ 2772 3750 2511 3984 \r\nQ 2250 4219 1831 4219 \r\nQ 1534 4219 1204 4116 \r\nQ 875 4013 500 3803 \r\nL 500 4441 \r\nQ 881 4594 1212 4672 \r\nQ 1544 4750 1819 4750 \r\nQ 2544 4750 2975 4387 \r\nQ 3406 4025 3406 3419 \r\nQ 3406 3131 3298 2873 \r\nQ 3191 2616 2906 2266 \r\nQ 2828 2175 2409 1742 \r\nQ 1991 1309 1228 531 \r\nz\r\n\" id=\"DejaVuSans-32\" transform=\"scale(0.015625)\"/>\r\n       </defs>\r\n       <use xlink:href=\"#DejaVuSans-32\"/>\r\n       <use x=\"63.623047\" xlink:href=\"#DejaVuSans-30\"/>\r\n       <use x=\"127.246094\" xlink:href=\"#DejaVuSans-30\"/>\r\n      </g>\r\n     </g>\r\n    </g>\r\n    <g id=\"xtick_6\">\r\n     <g id=\"line2d_6\">\r\n      <g>\r\n       <use style=\"stroke:#000000;stroke-width:0.8;\" x=\"246.055937\" xlink:href=\"#m2bc9711fc6\" y=\"228.014531\"/>\r\n      </g>\r\n     </g>\r\n     <g id=\"text_6\">\r\n      <!-- 250 -->\r\n      <g transform=\"translate(236.512188 242.612969)scale(0.1 -0.1)\">\r\n       <use xlink:href=\"#DejaVuSans-32\"/>\r\n       <use x=\"63.623047\" xlink:href=\"#DejaVuSans-35\"/>\r\n       <use x=\"127.246094\" xlink:href=\"#DejaVuSans-30\"/>\r\n      </g>\r\n     </g>\r\n    </g>\r\n   </g>\r\n   <g id=\"matplotlib.axis_2\">\r\n    <g id=\"ytick_1\">\r\n     <g id=\"line2d_7\">\r\n      <defs>\r\n       <path d=\"M 0 0 \r\nL -3.5 0 \r\n\" id=\"m6aa1228e8d\" style=\"stroke:#000000;stroke-width:0.8;\"/>\r\n      </defs>\r\n      <g>\r\n       <use style=\"stroke:#000000;stroke-width:0.8;\" x=\"33.2875\" xlink:href=\"#m6aa1228e8d\" y=\"10.999219\"/>\r\n      </g>\r\n     </g>\r\n     <g id=\"text_7\">\r\n      <!-- 0 -->\r\n      <g transform=\"translate(19.925 14.798438)scale(0.1 -0.1)\">\r\n       <use xlink:href=\"#DejaVuSans-30\"/>\r\n      </g>\r\n     </g>\r\n    </g>\r\n    <g id=\"ytick_2\">\r\n     <g id=\"line2d_8\">\r\n      <g>\r\n       <use style=\"stroke:#000000;stroke-width:0.8;\" x=\"33.2875\" xlink:href=\"#m6aa1228e8d\" y=\"53.467969\"/>\r\n      </g>\r\n     </g>\r\n     <g id=\"text_8\">\r\n      <!-- 50 -->\r\n      <g transform=\"translate(13.5625 57.267188)scale(0.1 -0.1)\">\r\n       <use xlink:href=\"#DejaVuSans-35\"/>\r\n       <use x=\"63.623047\" xlink:href=\"#DejaVuSans-30\"/>\r\n      </g>\r\n     </g>\r\n    </g>\r\n    <g id=\"ytick_3\">\r\n     <g id=\"line2d_9\">\r\n      <g>\r\n       <use style=\"stroke:#000000;stroke-width:0.8;\" x=\"33.2875\" xlink:href=\"#m6aa1228e8d\" y=\"95.936719\"/>\r\n      </g>\r\n     </g>\r\n     <g id=\"text_9\">\r\n      <!-- 100 -->\r\n      <g transform=\"translate(7.2 99.735938)scale(0.1 -0.1)\">\r\n       <use xlink:href=\"#DejaVuSans-31\"/>\r\n       <use x=\"63.623047\" xlink:href=\"#DejaVuSans-30\"/>\r\n       <use x=\"127.246094\" xlink:href=\"#DejaVuSans-30\"/>\r\n      </g>\r\n     </g>\r\n    </g>\r\n    <g id=\"ytick_4\">\r\n     <g id=\"line2d_10\">\r\n      <g>\r\n       <use style=\"stroke:#000000;stroke-width:0.8;\" x=\"33.2875\" xlink:href=\"#m6aa1228e8d\" y=\"138.405469\"/>\r\n      </g>\r\n     </g>\r\n     <g id=\"text_10\">\r\n      <!-- 150 -->\r\n      <g transform=\"translate(7.2 142.204688)scale(0.1 -0.1)\">\r\n       <use xlink:href=\"#DejaVuSans-31\"/>\r\n       <use x=\"63.623047\" xlink:href=\"#DejaVuSans-35\"/>\r\n       <use x=\"127.246094\" xlink:href=\"#DejaVuSans-30\"/>\r\n      </g>\r\n     </g>\r\n    </g>\r\n    <g id=\"ytick_5\">\r\n     <g id=\"line2d_11\">\r\n      <g>\r\n       <use style=\"stroke:#000000;stroke-width:0.8;\" x=\"33.2875\" xlink:href=\"#m6aa1228e8d\" y=\"180.874219\"/>\r\n      </g>\r\n     </g>\r\n     <g id=\"text_11\">\r\n      <!-- 200 -->\r\n      <g transform=\"translate(7.2 184.673438)scale(0.1 -0.1)\">\r\n       <use xlink:href=\"#DejaVuSans-32\"/>\r\n       <use x=\"63.623047\" xlink:href=\"#DejaVuSans-30\"/>\r\n       <use x=\"127.246094\" xlink:href=\"#DejaVuSans-30\"/>\r\n      </g>\r\n     </g>\r\n    </g>\r\n    <g id=\"ytick_6\">\r\n     <g id=\"line2d_12\">\r\n      <g>\r\n       <use style=\"stroke:#000000;stroke-width:0.8;\" x=\"33.2875\" xlink:href=\"#m6aa1228e8d\" y=\"223.342969\"/>\r\n      </g>\r\n     </g>\r\n     <g id=\"text_12\">\r\n      <!-- 250 -->\r\n      <g transform=\"translate(7.2 227.142188)scale(0.1 -0.1)\">\r\n       <use xlink:href=\"#DejaVuSans-32\"/>\r\n       <use x=\"63.623047\" xlink:href=\"#DejaVuSans-35\"/>\r\n       <use x=\"127.246094\" xlink:href=\"#DejaVuSans-30\"/>\r\n      </g>\r\n     </g>\r\n    </g>\r\n   </g>\r\n   <g id=\"patch_3\">\r\n    <path d=\"M 33.2875 228.014531 \r\nL 33.2875 10.574531 \r\n\" style=\"fill:none;stroke:#000000;stroke-linecap:square;stroke-linejoin:miter;stroke-width:0.8;\"/>\r\n   </g>\r\n   <g id=\"patch_4\">\r\n    <path d=\"M 250.7275 228.014531 \r\nL 250.7275 10.574531 \r\n\" style=\"fill:none;stroke:#000000;stroke-linecap:square;stroke-linejoin:miter;stroke-width:0.8;\"/>\r\n   </g>\r\n   <g id=\"patch_5\">\r\n    <path d=\"M 33.2875 228.014531 \r\nL 250.7275 228.014531 \r\n\" style=\"fill:none;stroke:#000000;stroke-linecap:square;stroke-linejoin:miter;stroke-width:0.8;\"/>\r\n   </g>\r\n   <g id=\"patch_6\">\r\n    <path d=\"M 33.2875 10.574531 \r\nL 250.7275 10.574531 \r\n\" style=\"fill:none;stroke:#000000;stroke-linecap:square;stroke-linejoin:miter;stroke-width:0.8;\"/>\r\n   </g>\r\n  </g>\r\n </g>\r\n <defs>\r\n  <clipPath id=\"pc44a4409e1\">\r\n   <rect height=\"217.44\" width=\"217.44\" x=\"33.2875\" y=\"10.574531\"/>\r\n  </clipPath>\r\n </defs>\r\n</svg>\r\n",
            "image/png": "[encoded data removed]"
          },
          "metadata": {
            "needs_background": "light"
          }
        }
      ],
      "source": [
        "\n",
        "plt.imshow(test[0])\n"
      ]
    },
    {
      "source": [
        "## Datainbalance\n",
        "This dataset, has lage imbalance where there is 3x as many positive cases as normal. This could be preferable as there would be better to classify a normal as sick then to missclassify someone sick as normal. However if the network is just registering people as sick then we have a problem. Altho the Grad-Cam can visualize what it missclassify. There is a need while to address the data imbalance to futher improve networks accuracy. I propose an Randomized sub-sampeling algorithm that selects from the .\n",
        "\n",
        "### Algorithm\n",
        "First assign a uniform random value to each label in the dataset. Then \n",
        "load the dataset in chunks of arbitrary size. The chunk loads a subsample of each label, the size of each labels subsamble is determined by the assosiated random value of the label assinged previously.\n",
        "Finally populate the resulting batch with item from the generated subsamples.\n",
        "\n",
        "\n",
        "=== todo ===\n",
        "### Sliding window\n",
        "### Streaming related stuff.\n",
        "### Lemma \n"
      ],
      "cell_type": "markdown",
      "metadata": {}
    },
    {
      "cell_type": "code",
      "execution_count": null,
      "metadata": {},
      "outputs": [],
      "source": []
    }
  ]
}