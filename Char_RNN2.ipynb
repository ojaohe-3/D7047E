{
  "nbformat": 4,
  "nbformat_minor": 0,
  "metadata": {
    "accelerator": "GPU",
    "colab": {
      "name": "Char-RNN2.ipynb",
      "provenance": [],
      "collapsed_sections": []
    },
    "kernelspec": {
      "display_name": "Python 3",
      "name": "python3"
    },
    "language_info": {
      "name": "python"
    }
  },
  "cells": [
    {
      "cell_type": "code",
      "metadata": {
        "id": "Au-valjMcttI"
      },
      "source": [
        "import torch\n",
        "import torch.nn as nn\n",
        "import torch.nn.functional as F\n",
        "from torch.distributions import Categorical\n",
        "import numpy as np\n",
        "from math import exp"
      ],
      "execution_count": 1,
      "outputs": []
    },
    {
      "cell_type": "code",
      "metadata": {
        "colab": {
          "base_uri": "https://localhost:8080/"
        },
        "id": "YaA1FfMDfVCc",
        "outputId": "850dac6a-82f9-4090-ac6c-899121e1877a"
      },
      "source": [
        "device = torch.device('cuda:0' if torch.cuda.is_available() else 'cpu')\n",
        "print(device)"
      ],
      "execution_count": 2,
      "outputs": [
        {
          "output_type": "stream",
          "text": [
            "cuda:0\n"
          ],
          "name": "stdout"
        }
      ]
    },
    {
      "cell_type": "code",
      "metadata": {
        "id": "c17-Wd-ufXIR"
      },
      "source": [
        "with open('input.txt', 'r') as f:\n",
        "  data = f.read()"
      ],
      "execution_count": 3,
      "outputs": []
    },
    {
      "cell_type": "code",
      "metadata": {
        "colab": {
          "base_uri": "https://localhost:8080/"
        },
        "id": "zsoK9pLPgFiy",
        "outputId": "05ae96fd-6abb-475a-ad29-90b9cfdc3abe"
      },
      "source": [
        "chars = sorted(list(set(data)))\n",
        "data_size, vocab_size = len(data), len(chars)\n",
        "print('Total number of characters:', data_size)\n",
        "print('Number of unique characters:', vocab_size)"
      ],
      "execution_count": 4,
      "outputs": [
        {
          "output_type": "stream",
          "text": [
            "Total number of characters: 1115393\n",
            "Number of unique characters: 65\n"
          ],
          "name": "stdout"
        }
      ]
    },
    {
      "cell_type": "code",
      "metadata": {
        "id": "hS_I9ax7f6yn"
      },
      "source": [
        "# char to int and int to char maps\n",
        "char_to_int = {ch:i for i,ch in enumerate(chars)}\n",
        "int_to_char = {i:ch for i,ch in enumerate(chars)}"
      ],
      "execution_count": 5,
      "outputs": []
    },
    {
      "cell_type": "code",
      "metadata": {
        "id": "9LQB4ihQgyAr"
      },
      "source": [
        "# convert data from chars to ints\n",
        "data = list(data)\n",
        "for i, ch, in enumerate(data):\n",
        "  data[i] = char_to_int[ch]\n",
        "\n",
        "data = torch.tensor(data).to(device)\n",
        "data = torch.unsqueeze(data, dim=1)    "
      ],
      "execution_count": 6,
      "outputs": []
    },
    {
      "cell_type": "code",
      "metadata": {
        "colab": {
          "base_uri": "https://localhost:8080/",
          "height": 35
        },
        "id": "4ZeuzibDuZtt",
        "outputId": "8a06e52c-e898-43b7-9561-208c81c7ad69"
      },
      "source": [
        "int_to_char[data[0].item()]"
      ],
      "execution_count": 7,
      "outputs": [
        {
          "output_type": "execute_result",
          "data": {
            "application/vnd.google.colaboratory.intrinsic+json": {
              "type": "string"
            },
            "text/plain": [
              "'F'"
            ]
          },
          "metadata": {
            "tags": []
          },
          "execution_count": 7
        }
      ]
    },
    {
      "cell_type": "code",
      "metadata": {
        "id": "NQONmfyhdBtU"
      },
      "source": [
        "class CharRNN(nn.Module):\n",
        "    def __init__(self, input_size, output_size, hidden_size, num_layers):\n",
        "        super(CharRNN, self).__init__()\n",
        "        self.embedding = nn.Embedding(input_size, input_size)\n",
        "        self.rnn = nn.LSTM(input_size=input_size, hidden_size=hidden_size, num_layers=num_layers)\n",
        "        self.decoder = nn.Linear(hidden_size, output_size)\n",
        "    \n",
        "    def forward(self, input_seq, hidden_state):\n",
        "        embedding = self.embedding(input_seq)\n",
        "        output, hidden_state = self.rnn(embedding, hidden_state)\n",
        "        output = self.decoder(output)\n",
        "        return output, (hidden_state[0].detach(), hidden_state[1].detach())"
      ],
      "execution_count": 8,
      "outputs": []
    },
    {
      "cell_type": "code",
      "metadata": {
        "id": "UZ04-V7OhP_S"
      },
      "source": [
        "# model\n",
        "hidden_size = 256\n",
        "num_layers = 3\n",
        "learning_rate = 0.001\n",
        "rnn = CharRNN(vocab_size, vocab_size, hidden_size, num_layers).to(device)"
      ],
      "execution_count": 11,
      "outputs": []
    },
    {
      "cell_type": "code",
      "metadata": {
        "id": "jl8avIfzFWEp"
      },
      "source": [
        "def train(net, epochs, data, batch_size, optimizer, criterion, print_every=2000):\n",
        "  print('[epoch, batch, \\tloss]')\n",
        "  perplexity = []\n",
        "  perplexity2 = []\n",
        "  for epoch in range(epochs):\n",
        "    n = 0\n",
        "    running_loss = 0.0\n",
        "    hidden_state = None\n",
        "    \n",
        "    # either start from 0 every time, or start on one of the first 100 letters\n",
        "    #data_ptr = 0\n",
        "    data_ptr = np.random.randint(batch_size)\n",
        "\n",
        "    while True:\n",
        "      input_seq = data[data_ptr : data_ptr + batch_size]\n",
        "      target_seq = data[data_ptr + 1: data_ptr + batch_size + 1]\n",
        "\n",
        "      optimizer.zero_grad()\n",
        "\n",
        "      output, hidden_state = rnn(input_seq, hidden_state)\n",
        "      loss = criterion(torch.squeeze(output), torch.squeeze(target_seq))      \n",
        "      loss.backward()\n",
        "      optimizer.step()\n",
        "\n",
        "      running_loss += loss.item()\n",
        "      \n",
        "      # calculate perplexity\n",
        "      # perplexity.append(torch.exp(loss.item())) ? \n",
        "      perplexity.append(torch.exp(loss))\n",
        "\n",
        "      data_ptr += batch_size\n",
        "      \n",
        "      if n % print_every == (print_every-1):    \n",
        "        print(f'[{epoch+1}, {n+1}, \\t{running_loss/print_every}]')\n",
        "        perplexity2.append(exp(running_loss/print_every))\n",
        "        running_loss = 0.0\n",
        "      n += 1\n",
        "      if data_ptr + batch_size + 1 > data_size:\n",
        "        break\n",
        "\n",
        "  return perplexity, perplexity2\n",
        "      "
      ],
      "execution_count": 12,
      "outputs": []
    },
    {
      "cell_type": "code",
      "metadata": {
        "id": "thABdDDE51gO"
      },
      "source": [
        "loss_fn = nn.CrossEntropyLoss()\n",
        "optimizer = torch.optim.Adam(rnn.parameters(), lr=learning_rate)\n",
        "epochs = 5\n",
        "batch_size = 100"
      ],
      "execution_count": 13,
      "outputs": []
    },
    {
      "cell_type": "code",
      "metadata": {
        "colab": {
          "base_uri": "https://localhost:8080/"
        },
        "id": "ruURShV8RVwV",
        "outputId": "0c7a9261-2d20-4dc7-fea6-c8d51c1c8103"
      },
      "source": [
        "perplexity, perplexity2 = train(rnn, epochs, data, batch_size, optimizer, loss_fn, 2000)"
      ],
      "execution_count": 14,
      "outputs": [
        {
          "output_type": "stream",
          "text": [
            "[epoch, batch, \tloss]\n",
            "[1, 2000, \t2.2106442440748215]\n",
            "[1, 4000, \t1.7349377221167088]\n",
            "[1, 6000, \t1.648948171108961]\n",
            "[1, 8000, \t1.5655256682038308]\n",
            "[1, 10000, \t1.5084424422085285]\n",
            "[2, 2000, \t1.4551371993124484]\n",
            "[2, 4000, \t1.398803160250187]\n",
            "[2, 6000, \t1.431232016414404]\n",
            "[2, 8000, \t1.3998159711658955]\n",
            "[2, 10000, \t1.3713747499883175]\n",
            "[3, 2000, \t1.3495148959755898]\n",
            "[3, 4000, \t1.3074174446761608]\n",
            "[3, 6000, \t1.3530065718889237]\n",
            "[3, 8000, \t1.3323676854372024]\n",
            "[3, 10000, \t1.308713010430336]\n",
            "[4, 2000, \t1.2965769491195678]\n",
            "[4, 4000, \t1.255521561384201]\n",
            "[4, 6000, \t1.3078864493966103]\n",
            "[4, 8000, \t1.2911603446304798]\n",
            "[4, 10000, \t1.2722841582298279]\n",
            "[5, 2000, \t1.2625220565199853]\n",
            "[5, 4000, \t1.2237513718605042]\n",
            "[5, 6000, \t1.2776002148091794]\n",
            "[5, 8000, \t1.2635477679669858]\n",
            "[5, 10000, \t1.2475040101408958]\n"
          ],
          "name": "stdout"
        }
      ]
    },
    {
      "cell_type": "code",
      "metadata": {
        "colab": {
          "base_uri": "https://localhost:8080/",
          "height": 279
        },
        "id": "6BJtKWxgr-ZH",
        "outputId": "049eb2b5-c514-4ab6-8414-25326fada29a"
      },
      "source": [
        "import matplotlib.pyplot as plt\n",
        "plt.plot(torch.FloatTensor(perplexity))\n",
        "plt.xlabel('Batch')\n",
        "plt.ylabel('Perplexity (exp(loss))')\n",
        "plt.show()"
      ],
      "execution_count": 23,
      "outputs": [
        {
          "output_type": "display_data",
          "data": {
            "image/png": "[encoded data removed]",
            "text/plain": [
              "<Figure size 432x288 with 1 Axes>"
            ]
          },
          "metadata": {
            "tags": [],
            "needs_background": "light"
          }
        }
      ]
    },
    {
      "cell_type": "code",
      "metadata": {
        "colab": {
          "base_uri": "https://localhost:8080/",
          "height": 279
        },
        "id": "M7xBcGfm7aKe",
        "outputId": "d65428c0-da14-4746-d3f2-2801320c7b59"
      },
      "source": [
        "# As a comparison, we also plot perplexity2\n",
        "# which is the perplexity for every 2000 batch \n",
        "plt.plot(torch.FloatTensor(perplexity2))\n",
        "plt.xlabel('Batch * 2000')\n",
        "plt.ylabel('Perplexity')\n",
        "plt.show()"
      ],
      "execution_count": 25,
      "outputs": [
        {
          "output_type": "display_data",
          "data": {
            "image/png": "[encoded data removed]",
            "text/plain": [
              "<Figure size 432x288 with 1 Axes>"
            ]
          },
          "metadata": {
            "tags": [],
            "needs_background": "light"
          }
        }
      ]
    },
    {
      "cell_type": "code",
      "metadata": {
        "id": "bmJYNqVG7GYU"
      },
      "source": [
        "# Save model\n",
        "torch.save(rnn.state_dict(), 'charRNN_ 5epochs_3layers_256_random.pth')"
      ],
      "execution_count": 21,
      "outputs": []
    },
    {
      "cell_type": "code",
      "metadata": {
        "id": "eOgeYsbf74IH"
      },
      "source": [
        "load_model = False\n",
        "if load_model:\n",
        "  model = CharRNN(vocab_size, vocab_size, hidden_size, num_layers)\n",
        "  model.load_state_dict(torch.load('charRNN_5epochs_3layers_random.pth'))"
      ],
      "execution_count": 26,
      "outputs": []
    },
    {
      "cell_type": "code",
      "metadata": {
        "id": "ToWxg7E45Tc4"
      },
      "source": [
        "# Generate text\n",
        "def generate(model, input_text, output_lenght=200):\n",
        "  input = list(input_text)\n",
        "\n",
        "  for i, ch, in enumerate(input):\n",
        "    input[i] = char_to_int[ch]\n",
        "\n",
        "  input = torch.tensor(input).to(device)\n",
        "  input = torch.unsqueeze(input, dim=1) \n",
        "\n",
        "\n",
        "  # use input to build up hidden state\n",
        "  hidden_state = None\n",
        "  for i in range(len(input)-1):\n",
        "    input_seq = input[i].unsqueeze(dim=0)\n",
        "    _, hidden_state = rnn(input_seq, hidden_state)\n",
        "    \n",
        "    # print input character\n",
        "    print(int_to_char[input[i].item()], end = '')\n",
        "\n",
        "\n",
        "  # use the build-up hidden state and the last character in the given input \n",
        "  # text as first input to generate new text\n",
        "\n",
        "  input_seq = input[-1].unsqueeze(dim=0)\n",
        "  print(int_to_char[input[-1].item()], end = '')\n",
        "\n",
        "  for _ in range(output_lenght):\n",
        "    # forward pass\n",
        "    output, hidden_state = rnn(input_seq, hidden_state)\n",
        "\n",
        "    # construct categorial distribution and sample a character\n",
        "    output = F.softmax(torch.squeeze(output), dim=0)\n",
        "    distribution = Categorical(output)\n",
        "    index = distribution.sample()\n",
        "\n",
        "    # print the sampled character\n",
        "    print(int_to_char[index.item()], end = '')\n",
        "    \n",
        "    # want input_seq in the format ([[x]], cuda)\n",
        "    input_seq = index.unsqueeze(dim=0).unsqueeze(dim=0)\n"
      ],
      "execution_count": 36,
      "outputs": []
    },
    {
      "cell_type": "code",
      "metadata": {
        "colab": {
          "base_uri": "https://localhost:8080/"
        },
        "id": "xKt0X3ChsVl2",
        "outputId": "6c849ebf-f55d-44c1-ad45-7c80b40317d9"
      },
      "source": [
        "# Task 2\n",
        "# code that create a 5-char long sequence from vocab\n",
        "str = ''\n",
        "for i in range(5):\n",
        "  str += int_to_char[np.random.randint(vocab_size)]\n",
        "\n",
        "print(str)\n",
        "\n",
        "generate(rnn, str, 100)"
      ],
      "execution_count": 37,
      "outputs": [
        {
          "output_type": "stream",
          "text": [
            "v;WWw\n",
            "v;WWwinter! What\n",
            "not cottaff mockeding?\n",
            "\n",
            "ANTONIO:\n",
            "I am the rank and agraigor with,--\n",
            "\n",
            "ANTONIO:\n",
            "Let me tha"
          ],
          "name": "stdout"
        }
      ]
    },
    {
      "cell_type": "code",
      "metadata": {
        "colab": {
          "base_uri": "https://localhost:8080/"
        },
        "id": "Q82RkiXUNVqL",
        "outputId": "65ba8493-3839-4528-8dcf-43418289123d"
      },
      "source": [
        "generate(rnn, 'The', 400)"
      ],
      "execution_count": 38,
      "outputs": [
        {
          "output_type": "stream",
          "text": [
            "There,\n",
            "Saint Sainted and then every weakness withal or legenne,\n",
            "We would vice of this grave as little; thou salt,\n",
            "So, forthy kind his face, one kind my life.\n",
            "\n",
            "GONZALO:\n",
            "What, into the god of shiettess of his\n",
            "sooth, stay e'er flent, the Duke of Signior\n",
            "And eat of a day\n",
            "Which worthwake, two sight should have done:\n",
            "Too knave wides, advantage; to have a soul.\n",
            "\n",
            "ANTONIO:\n",
            "O, time, my lords of such a made in "
          ],
          "name": "stdout"
        }
      ]
    },
    {
      "cell_type": "code",
      "metadata": {
        "colab": {
          "base_uri": "https://localhost:8080/"
        },
        "id": "Q88R06sQwk83",
        "outputId": "e9d9ee9e-8dd9-4411-f421-d9247a57fd22"
      },
      "source": [
        "generate(rnn, 'Shall I give', 100)"
      ],
      "execution_count": 45,
      "outputs": [
        {
          "output_type": "stream",
          "text": [
            "Shall I give!\n",
            "How then are the time, serves thy forth slave,\n",
            "When I'll kern the roar.\n",
            "\n",
            "GONZALO:\n",
            "What office his "
          ],
          "name": "stdout"
        }
      ]
    },
    {
      "cell_type": "code",
      "metadata": {
        "colab": {
          "base_uri": "https://localhost:8080/"
        },
        "id": "BX08EeQ3OgZN",
        "outputId": "1d599539-4df1-4f33-8a92-6193b809cf3c"
      },
      "source": [
        "generate(rnn, 'What is', 100)"
      ],
      "execution_count": 43,
      "outputs": [
        {
          "output_type": "stream",
          "text": [
            "What is the mat-dam more.\n",
            "\n",
            "ANTONIO:\n",
            "Here but not us, what you both to the queen;\n",
            "Who never him of some dove"
          ],
          "name": "stdout"
        }
      ]
    },
    {
      "cell_type": "code",
      "metadata": {
        "colab": {
          "base_uri": "https://localhost:8080/"
        },
        "id": "hn8oYKEjrblH",
        "outputId": "54ad2d35-bc95-44be-deed-2de7b0f7b40d"
      },
      "source": [
        "generate(rnn, 'XhNYB BHN BYFVuhsdbs', 100)"
      ],
      "execution_count": 44,
      "outputs": [
        {
          "output_type": "stream",
          "text": [
            "XhNYB BHN BYFVuhsdbshal:\n",
            "As eat?\n",
            "\n",
            "ANGELO:\n",
            "What, of either joy!\n",
            "\n",
            "SEBASTIAN:\n",
            "No, sir, but mising of sub! guel, rates!\n",
            "\n",
            "SEB"
          ],
          "name": "stdout"
        }
      ]
    }
  ]
}