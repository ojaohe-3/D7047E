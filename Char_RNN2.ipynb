{
  "nbformat": 4,
  "nbformat_minor": 0,
  "metadata": {
    "accelerator": "GPU",
    "colab": {
      "name": "Char-RNN2.ipynb",
      "provenance": [],
      "collapsed_sections": []
    },
    "kernelspec": {
      "display_name": "Python 3",
      "name": "python3"
    },
    "language_info": {
      "name": "python"
    }
  },
  "cells": [
    {
      "cell_type": "code",
      "metadata": {
        "id": "Au-valjMcttI"
      },
      "source": [
        "import torch\n",
        "import torch.nn as nn\n",
        "import torch.nn.functional as F\n",
        "from torch.distributions import Categorical\n",
        "import numpy as np"
      ],
      "execution_count": 1,
      "outputs": []
    },
    {
      "cell_type": "code",
      "metadata": {
        "colab": {
          "base_uri": "https://localhost:8080/"
        },
        "id": "YaA1FfMDfVCc",
        "outputId": "ae983639-83ac-42e5-93cf-0105ac22a788"
      },
      "source": [
        "device = torch.device('cuda:0' if torch.cuda.is_available() else 'cpu')\n",
        "print(device)"
      ],
      "execution_count": 2,
      "outputs": [
        {
          "output_type": "stream",
          "text": [
            "cuda:0\n"
          ],
          "name": "stdout"
        }
      ]
    },
    {
      "cell_type": "code",
      "metadata": {
        "id": "c17-Wd-ufXIR"
      },
      "source": [
        "with open('input.txt', 'r') as f:\n",
        "  data = f.read()"
      ],
      "execution_count": 3,
      "outputs": []
    },
    {
      "cell_type": "code",
      "metadata": {
        "colab": {
          "base_uri": "https://localhost:8080/"
        },
        "id": "zsoK9pLPgFiy",
        "outputId": "4b11d92d-423f-4642-ffc3-53192f14f138"
      },
      "source": [
        "chars = sorted(list(set(data)))\n",
        "data_size, vocab_size = len(data), len(chars)\n",
        "print('Total number of characters:', data_size)\n",
        "print('Number of unique characters:', vocab_size)"
      ],
      "execution_count": 4,
      "outputs": [
        {
          "output_type": "stream",
          "text": [
            "Total number of characters: 1115393\n",
            "Number of unique characters: 65\n"
          ],
          "name": "stdout"
        }
      ]
    },
    {
      "cell_type": "code",
      "metadata": {
        "id": "hS_I9ax7f6yn"
      },
      "source": [
        "# char to int and int to char maps\n",
        "char_to_int = {ch:i for i,ch in enumerate(chars)}\n",
        "int_to_char = {i:ch for i,ch in enumerate(chars)}"
      ],
      "execution_count": 5,
      "outputs": []
    },
    {
      "cell_type": "code",
      "metadata": {
        "id": "9LQB4ihQgyAr"
      },
      "source": [
        "# convert data from chars to indices\n",
        "data = list(data)\n",
        "for i, ch, in enumerate(data):\n",
        "  data[i] = char_to_int[ch]\n",
        "\n",
        "data = torch.tensor(data).to(device)\n",
        "data = torch.unsqueeze(data, dim=1)    "
      ],
      "execution_count": 6,
      "outputs": []
    },
    {
      "cell_type": "code",
      "metadata": {
        "colab": {
          "base_uri": "https://localhost:8080/",
          "height": 35
        },
        "id": "4ZeuzibDuZtt",
        "outputId": "af90bed2-dd15-482b-f6ea-0502529891fb"
      },
      "source": [
        "int_to_char[data[0].item()]"
      ],
      "execution_count": 44,
      "outputs": [
        {
          "output_type": "execute_result",
          "data": {
            "application/vnd.google.colaboratory.intrinsic+json": {
              "type": "string"
            },
            "text/plain": [
              "'F'"
            ]
          },
          "metadata": {
            "tags": []
          },
          "execution_count": 44
        }
      ]
    },
    {
      "cell_type": "code",
      "metadata": {
        "id": "NQONmfyhdBtU"
      },
      "source": [
        "class CharRNN(nn.Module):\n",
        "    def __init__(self, input_size, output_size, hidden_size, num_layers):\n",
        "        super(CharRNN, self).__init__()\n",
        "        self.embedding = nn.Embedding(input_size, input_size)\n",
        "        self.rnn = nn.LSTM(input_size=input_size, hidden_size=hidden_size, num_layers=num_layers)\n",
        "        self.decoder = nn.Linear(hidden_size, output_size)\n",
        "    \n",
        "    def forward(self, input_seq, hidden_state):\n",
        "        embedding = self.embedding(input_seq)\n",
        "        output, hidden_state = self.rnn(embedding, hidden_state)\n",
        "        output = self.decoder(output)\n",
        "        return output, (hidden_state[0].detach(), hidden_state[1].detach())"
      ],
      "execution_count": 7,
      "outputs": []
    },
    {
      "cell_type": "code",
      "metadata": {
        "id": "UZ04-V7OhP_S"
      },
      "source": [
        "# model\n",
        "hidden_size = 512\n",
        "num_layers = 3\n",
        "learning_rate = 0.001\n",
        "rnn = CharRNN(vocab_size, vocab_size, hidden_size, num_layers).to(device)"
      ],
      "execution_count": 8,
      "outputs": []
    },
    {
      "cell_type": "code",
      "metadata": {
        "id": "thABdDDE51gO"
      },
      "source": [
        "loss_fn = nn.CrossEntropyLoss()\n",
        "optimizer = torch.optim.Adam(rnn.parameters(), lr=learning_rate)\n",
        "epochs = 5\n",
        "batch_size = 100"
      ],
      "execution_count": 9,
      "outputs": []
    },
    {
      "cell_type": "code",
      "metadata": {
        "id": "jl8avIfzFWEp"
      },
      "source": [
        "def train(net, epochs, data, batch_size, optimizer, criterion, print_every=2000):\n",
        "  print('[epoch, batch, \\tloss]')\n",
        "  perplexity = []\n",
        "  for epoch in range(epochs):\n",
        "    n = 0\n",
        "    running_loss = 0.0\n",
        "    hidden_state = None\n",
        "    \n",
        "    # either start from 0 every time, or start on one of the first 100 letters\n",
        "    #data_ptr = 0\n",
        "    data_ptr = np.random.randint(batch_size)\n",
        "\n",
        "    while True:\n",
        "      input_seq = data[data_ptr : data_ptr + batch_size]\n",
        "      target_seq = data[data_ptr + 1: data_ptr + batch_size + 1]\n",
        "\n",
        "      optimizer.zero_grad()\n",
        "\n",
        "      output, hidden_state = rnn(input_seq, hidden_state)\n",
        "      loss = criterion(torch.squeeze(output), torch.squeeze(target_seq))      \n",
        "      loss.backward()\n",
        "      optimizer.step()\n",
        "\n",
        "      running_loss += loss.item()\n",
        "      # calculating perplexity\n",
        "      # loss.item()??\n",
        "      perplexity.append(torch.exp(loss))\n",
        "\n",
        "      data_ptr += batch_size\n",
        "      \n",
        "      if n % print_every == (print_every-1):    \n",
        "        print(f'[{epoch+1}, {n+1}, \\t{running_loss/print_every}]')\n",
        "        running_loss = 0.0\n",
        "      n += 1\n",
        "      if data_ptr + batch_size + 1 > data_size:\n",
        "        break\n",
        "\n",
        "  return perplexity\n",
        "      "
      ],
      "execution_count": 10,
      "outputs": []
    },
    {
      "cell_type": "code",
      "metadata": {
        "colab": {
          "base_uri": "https://localhost:8080/"
        },
        "id": "ruURShV8RVwV",
        "outputId": "d92212b2-fbd1-48bb-f47b-6947132b7589"
      },
      "source": [
        "\n",
        "perplexity = train(rnn, epochs, data, batch_size, optimizer, loss_fn, 2000)\n",
        "torch.save(rnn.state_dict(), 'charRNN_ 5epochs_3layers_random.pth')\n"
      ],
      "execution_count": 11,
      "outputs": [
        {
          "output_type": "stream",
          "text": [
            "[epoch, batch, \tloss]\n",
            "[1, 2000, \t1.9731720856428145]\n",
            "[1, 4000, \t1.5177883839607238]\n",
            "[1, 6000, \t1.4747926640808582]\n",
            "[1, 8000, \t1.41551407122612]\n",
            "[1, 10000, \t1.3723158878982067]\n",
            "[2, 2000, \t1.334270913630724]\n",
            "[2, 4000, \t1.275072966337204]\n",
            "[2, 6000, \t1.3172644697129727]\n",
            "[2, 8000, \t1.2973911046087743]\n",
            "[2, 10000, \t1.2746853843033314]\n",
            "[3, 2000, \t1.2576277147233486]\n",
            "[3, 4000, \t1.2074905719459057]\n",
            "[3, 6000, \t1.2598988971412182]\n",
            "[3, 8000, \t1.2476230304837226]\n",
            "[3, 10000, \t1.2308437614440917]\n",
            "[4, 2000, \t1.2217627874612809]\n",
            "[4, 4000, \t1.1761452516913413]\n",
            "[4, 6000, \t1.2286233653724195]\n",
            "[4, 8000, \t1.222944752216339]\n",
            "[4, 10000, \t1.2082074275910855]\n",
            "[5, 2000, \t1.200659190505743]\n",
            "[5, 4000, \t1.1567650269269942]\n",
            "[5, 6000, \t1.2103614961206912]\n",
            "[5, 8000, \t1.204769636452198]\n",
            "[5, 10000, \t1.1948914560973645]\n"
          ],
          "name": "stdout"
        }
      ]
    },
    {
      "cell_type": "code",
      "metadata": {
        "colab": {
          "base_uri": "https://localhost:8080/",
          "height": 265
        },
        "id": "6BJtKWxgr-ZH",
        "outputId": "4b203747-fb91-4010-ce71-096c664e9084"
      },
      "source": [
        "plt.plot(torch.FloatTensor(perplexity))\n",
        "plt.show()"
      ],
      "execution_count": 31,
      "outputs": [
        {
          "output_type": "display_data",
          "data": {
            "image/png": "[encoded data removed]",
            "text/plain": [
              "<Figure size 432x288 with 1 Axes>"
            ]
          },
          "metadata": {
            "tags": [],
            "needs_background": "light"
          }
        }
      ]
    },
    {
      "cell_type": "code",
      "metadata": {
        "id": "ToWxg7E45Tc4"
      },
      "source": [
        "def generate(input_text, output_lenght=200):\n",
        "  input = list(input_text)\n",
        "\n",
        "  for i, ch, in enumerate(input):\n",
        "    input[i] = char_to_int[ch]\n",
        "\n",
        "  input = torch.tensor(input).to(device)\n",
        "  input = torch.unsqueeze(input, dim=1) \n",
        "\n",
        "\n",
        "  # use input to build up hidden state\n",
        "  hidden_state = None\n",
        "  for i in range(len(input)-1):\n",
        "    input_seq = input[i].unsqueeze(dim=0)\n",
        "    _, hidden_state = rnn(input_seq, hidden_state)\n",
        "    \n",
        "    # print input character\n",
        "    print(int_to_char[input[i].item()], end = '')\n",
        "\n",
        "\n",
        "  # use the build-up hidden state and the last character in the given input \n",
        "  # text as first input to generate new text\n",
        "\n",
        "  input_seq = input[-1].unsqueeze(dim=0)\n",
        "  print(int_to_char[input[-1].item()], end = '')\n",
        "\n",
        "  for _ in range(output_lenght):\n",
        "    # forward pass\n",
        "    output, hidden_state = rnn(input_seq, hidden_state)\n",
        "\n",
        "    # construct categorial distribution and sample a character\n",
        "    output = F.softmax(torch.squeeze(output), dim=0)\n",
        "    distribution = Categorical(output)\n",
        "    index = distribution.sample()\n",
        "\n",
        "    # print the sampled character\n",
        "    print(int_to_char[index.item()], end = '')\n",
        "    \n",
        "    # want input_seq in the format ([[x]], cuda)\n",
        "    input_seq = index.unsqueeze(dim=0).unsqueeze(dim=0)\n"
      ],
      "execution_count": 12,
      "outputs": []
    },
    {
      "cell_type": "code",
      "metadata": {
        "colab": {
          "base_uri": "https://localhost:8080/"
        },
        "id": "xKt0X3ChsVl2",
        "outputId": "45560952-8297-4201-e876-cab32d471d9e"
      },
      "source": [
        "# Task 2\n",
        "# code that create a 5-char long sequence from vocab\n",
        "str = ''\n",
        "for i in range(5):\n",
        "  str += int_to_char[np.random.randint(vocab_size)]\n",
        "\n",
        "print(str)\n",
        "\n",
        "generate(str, 100)"
      ],
      "execution_count": 46,
      "outputs": [
        {
          "output_type": "stream",
          "text": [
            "Cwy d\n",
            "Cwy does\n",
            "Fooling to some time?\n",
            "\n",
            "LONDH:\n",
            "Thou shalt not.\n",
            "\n",
            "ANTONIO:\n",
            "No longeth of it is wonty, I do; 'tis mo"
          ],
          "name": "stdout"
        }
      ]
    },
    {
      "cell_type": "code",
      "metadata": {
        "colab": {
          "base_uri": "https://localhost:8080/"
        },
        "id": "Q82RkiXUNVqL",
        "outputId": "06551a84-c4f0-44de-cb4f-77ca790a0d58"
      },
      "source": [
        "generate('The', 100)"
      ],
      "execution_count": 50,
      "outputs": [
        {
          "output_type": "stream",
          "text": [
            "The:\n",
            "Sir, that I live.\n",
            "\n",
            "GONZALO:\n",
            "Osses upon thine ear?\n",
            "\n",
            "ANTONIO:\n",
            "\n",
            "ANTONIO:\n",
            "As by love in his great quee"
          ],
          "name": "stdout"
        }
      ]
    },
    {
      "cell_type": "code",
      "metadata": {
        "colab": {
          "base_uri": "https://localhost:8080/"
        },
        "id": "Q88R06sQwk83",
        "outputId": "ad60449a-4214-462d-e901-9ef3e42ea3a3"
      },
      "source": [
        "generate('Shall I give ')"
      ],
      "execution_count": 52,
      "outputs": [
        {
          "output_type": "stream",
          "text": [
            "Shall I give us cast.\n",
            "\n",
            "DUKE VINCENTIO:\n",
            "Sir, we are forth; look upon the corn,\n",
            "That thou lightst, since, one than our sacred\n",
            "With something severy.\n",
            "\n",
            "ANTONIO:\n",
            "I have no more made your mouths, thither\n",
            "Were not some d"
          ],
          "name": "stdout"
        }
      ]
    },
    {
      "cell_type": "code",
      "metadata": {
        "colab": {
          "base_uri": "https://localhost:8080/"
        },
        "id": "BX08EeQ3OgZN",
        "outputId": "a3bffac7-f862-4eeb-db27-40ff9dfe3dd3"
      },
      "source": [
        "generate('What is ', 400)"
      ],
      "execution_count": 51,
      "outputs": [
        {
          "output_type": "stream",
          "text": [
            "What is wrection\n",
            "He hath entertained these worst swift poison rocks.\n",
            "And, 'Some son! the hound ta'en, a dotey?\n",
            "\n",
            "PROSPERO:\n",
            "What like my father, and\n",
            "I am content with stolens?\n",
            "\n",
            "ALONSO:\n",
            "O boanish! what it is the walk'd done?\n",
            "\n",
            "FERDINAND:\n",
            "My husband's majely wrought\n",
            "From this govern sight.\n",
            "\n",
            "BADNAND:\n",
            "Sir, sir: and I with his wave did look no view.\n",
            "\n",
            "BAPTISTA:\n",
            "I said quality for man,--\n",
            "\n",
            "SEBASTIAN:\n",
            "Laze, i' the fa"
          ],
          "name": "stdout"
        }
      ]
    },
    {
      "cell_type": "code",
      "metadata": {
        "colab": {
          "base_uri": "https://localhost:8080/"
        },
        "id": "hn8oYKEjrblH",
        "outputId": "d2fd9bd8-b911-47ff-a2eb-e59594717fb4"
      },
      "source": [
        "generate('XhNYB BHN BYFVuhsdbs')"
      ],
      "execution_count": 56,
      "outputs": [
        {
          "output_type": "stream",
          "text": [
            "XhNYB BHN BYFVuhsdbsawn!\n",
            "\n",
            "ANTONIO:\n",
            "Fie, he must have now gone,\n",
            "Were not for my castice boltly.\n",
            "\n",
            "ANTONIO:\n",
            "No, master.\n",
            "When with boister that our arty solling, nor\n",
            "mathous party? nay; for my cheat such a safflet.\n",
            "\n",
            "HORTENSI"
          ],
          "name": "stdout"
        }
      ]
    },
    {
      "cell_type": "code",
      "metadata": {
        "id": "lWXn9_lnrclu"
      },
      "source": [
        ""
      ],
      "execution_count": null,
      "outputs": []
    }
  ]
}