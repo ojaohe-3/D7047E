{
  "nbformat": 4,
  "nbformat_minor": 0,
  "metadata": {
    "colab": {
      "name": "ex2_mnist.ipynb",
      "provenance": []
    },
    "kernelspec": {
      "display_name": "Python 3",
      "name": "python3"
    },
    "language_info": {
      "name": "python"
    }
  },
  "cells": [
    {
      "cell_type": "code",
      "metadata": {
        "id": "DFc3O85XOqDN"
      },
      "source": [
        "import torch.nn as nn\n",
        "import torch.nn.functional as F\n",
        "import torch.optim as optim\n",
        "import torch\n",
        "import torchvision\n",
        "import torchvision.transforms as transforms\n",
        "import matplotlib.pyplot as plt\n",
        "import numpy as np"
      ],
      "execution_count": 17,
      "outputs": []
    },
    {
      "cell_type": "code",
      "metadata": {
        "id": "ciUNxd-fL5ME"
      },
      "source": [
        "transform = transforms.Compose([\n",
        "            transforms.ToTensor(),\n",
        "            transforms.Normalize((0.1307,), (0.3081,))])\n",
        "\n",
        "batch_size = 32\n",
        "\n",
        "trainset = torchvision.datasets.MNIST(root='./data', \n",
        "                                        train=True,\n",
        "                                        download=True, \n",
        "                                        transform=transform)               \n",
        "\n",
        "trainloader = torch.utils.data.DataLoader(trainset, \n",
        "                                          batch_size=batch_size,\n",
        "                                          shuffle=True)\n",
        "\n",
        "testset = torchvision.datasets.MNIST(root='./data', \n",
        "                                       train=False,\n",
        "                                       download=True, \n",
        "                                       transform=transform)\n",
        "\n",
        "testloader = torch.utils.data.DataLoader(testset, \n",
        "                                         batch_size=batch_size,\n",
        "                                         shuffle=False)\n"
      ],
      "execution_count": 18,
      "outputs": []
    },
    {
      "cell_type": "code",
      "metadata": {
        "id": "WEU_5ziAhMa-"
      },
      "source": [
        "def train(net, epochs, trainloader, optimizer, criterion=nn.CrossEntropyLoss(), title=\"\", writer=None):\n",
        "    print(\n",
        "        f\"training {title} network for {epochs} epochs, {'tensorboard enabled' if writer else 'no tensorboard enabled'}\")\n",
        "    device = torch.device('cuda:0' if torch.cuda.is_available() else 'cpu')\n",
        "    for epoch in range(epochs):\n",
        "        running_loss = 0.0\n",
        "        running_correct = 0.0\n",
        "        for i, data in enumerate(trainloader, 0):\n",
        "            # get the inputs; data is a list of [inputs, labels]\n",
        "            inputs, labels = data[0].to(device), data[1].to(device)\n",
        "\n",
        "            # zero the parameter gradients\n",
        "            optimizer.zero_grad()\n",
        "\n",
        "            # forward + backward + optimize\n",
        "            outputs = net(inputs)\n",
        "            loss = criterion(outputs, labels)\n",
        "            loss.backward()\n",
        "            optimizer.step()\n",
        "\n",
        "            # print statistics\n",
        "            running_loss += loss.item()\n",
        "            _, predicted = torch.max(outputs.data, 1)\n",
        "            running_correct += (predicted == labels).sum().item()\n",
        "            if i % 2000 == 1999:    # print every 2000 mini-batches\n",
        "                print('[%d, %5d] loss: %.3f' %\n",
        "                        (epoch + 1, i + 1, running_loss / 2000))\n",
        "                if writer:\n",
        "                    writer.add_scalar(\n",
        "                        'training loss, ' + title, running_loss/2000, epoch)\n",
        "                    writer.add_scalar('accuracy, '+title,\n",
        "                                        running_correct/2000, epoch)\n",
        "\n",
        "                running_loss = 0.0\n",
        "                running_correct = 0.0\n",
        "\n",
        "    print('Finished Training')"
      ],
      "execution_count": 19,
      "outputs": []
    },
    {
      "cell_type": "code",
      "metadata": {
        "id": "KXGXxtaFhM3o"
      },
      "source": [
        "# TODO: check accuracy for each class\n",
        "# (get error with index 16)\n",
        "\n",
        "def validate(net, testloader):\n",
        "\n",
        "  correct = 0\n",
        "  total = 0\n",
        "\n",
        "  with torch.no_grad():\n",
        "    for data in testloader:      \n",
        "      inputs, labels = data[0].to(device), data[1].to(device)\n",
        "      outputs = net(inputs)\n",
        "      _, predicted = torch.max(outputs, 1)\n",
        "      is_correct = (predicted == labels)\n",
        "      total += labels.size(0)\n",
        "      correct += (predicted == labels).sum().item()\n",
        "    \n",
        "  print(\"Total accuracy of net: %.2f%%\" % (correct/total*100))\n"
      ],
      "execution_count": 20,
      "outputs": []
    },
    {
      "cell_type": "code",
      "metadata": {
        "id": "T4gdL_I9jIyd"
      },
      "source": [
        "class Net(nn.Module):\n",
        "    def __init__(self):\n",
        "        super(Net, self).__init__()\n",
        "        self.conv1 = nn.Conv2d(1, 10, kernel_size=5)\n",
        "        self.conv2 = nn.Conv2d(10, 20, kernel_size=5)\n",
        "        self.conv2_drop = nn.Dropout2d()\n",
        "        self.flatten = nn.Flatten()\n",
        "        self.fc1 = nn.Linear(320, 50)\n",
        "        self.fc2 = nn.Linear(50, 10)\n",
        "\n",
        "    def forward(self, x):\n",
        "        x = F.relu(F.max_pool2d(self.conv1(x), 2))\n",
        "        x = F.relu(F.max_pool2d(self.conv2_drop(self.conv2(x)), 2))\n",
        "        x = self.flatten(x)\n",
        "        x = F.relu(self.fc1(x))\n",
        "        x = F.dropout(x, training=self.training)\n",
        "        x = self.fc2(x)\n",
        "        return F.log_softmax(x, dim = 1)"
      ],
      "execution_count": 21,
      "outputs": []
    },
    {
      "cell_type": "code",
      "metadata": {
        "id": "oszqE1LThjKr",
        "colab": {
          "base_uri": "https://localhost:8080/"
        },
        "outputId": "dc0c7d2e-0108-4632-af5a-ca478f5ec97e"
      },
      "source": [
        "# Prepare a CNN of your choice and train it on the MNIST data.  \n",
        "# Report the accuracy\n",
        "\n",
        "device = torch.device('cuda:0' if torch.cuda.is_available() else 'cpu')\n",
        "\n",
        "training = False\n",
        "\n",
        "if training:\n",
        "  net = Net()\n",
        "  net.to(device)\n",
        "  optimizer = optim.SGD(net.parameters(), lr=0.001, momentum=0.9)\n",
        "  criterion = nn.CrossEntropyLoss()\n",
        "  train(net, 3, trainloader, optimizer)\n",
        "else: \n",
        "  net = Net()\n",
        "  net.load_state_dict(torch.load('mnist_10_epochs.pth'))\n",
        "\n",
        "if training:\n",
        "  torch.save(net.state_dict(), 'mnist_10_epochs.pth')\n",
        "\n",
        "classes = ('0', '1', '2', '3', '4', '5', '6', '7', '8', '9')\n",
        "validate(net, testloader)"
      ],
      "execution_count": 22,
      "outputs": [
        {
          "output_type": "stream",
          "text": [
            "Total accuracy of net: 95.28%\n"
          ],
          "name": "stdout"
        }
      ]
    },
    {
      "cell_type": "code",
      "metadata": {
        "colab": {
          "base_uri": "https://localhost:8080/"
        },
        "id": "2Pssb62tobO_",
        "outputId": "e33ac5a6-93e7-408e-f65b-0860cd974f2f"
      },
      "source": [
        "# Read in the SVHN dataset\n",
        "\n",
        "transform = transforms.Compose([\n",
        "                    transforms.Resize(28),\n",
        "                    transforms.ToTensor(),\n",
        "                    transforms.Grayscale(num_output_channels=1),\n",
        "                    transforms.Normalize((0.5,), (0.5,))])\n",
        "\n",
        "batch_size = 32\n",
        "    \n",
        "trainset_svhn = torchvision.datasets.SVHN(root='./data', \n",
        "                                        split='train',\n",
        "                                        download=True, \n",
        "                                        transform=transform)               \n",
        "\n",
        "trainloader_svhn = torch.utils.data.DataLoader(trainset_svhn, \n",
        "                                          batch_size=batch_size,\n",
        "                                          shuffle=True)\n",
        "\n",
        "testset_svhn = torchvision.datasets.SVHN(root='./data', \n",
        "                                       split='test',\n",
        "                                       download=True, \n",
        "                                       transform=transform)\n",
        "\n",
        "testloader_svhn = torch.utils.data.DataLoader(testset_svhn, \n",
        "                                         batch_size=batch_size,\n",
        "                                         shuffle=False)"
      ],
      "execution_count": 23,
      "outputs": [
        {
          "output_type": "stream",
          "text": [
            "Using downloaded and verified file: ./data/train_32x32.mat\n",
            "Using downloaded and verified file: ./data/test_32x32.mat\n"
          ],
          "name": "stdout"
        }
      ]
    },
    {
      "cell_type": "code",
      "metadata": {
        "colab": {
          "base_uri": "https://localhost:8080/",
          "height": 551
        },
        "id": "XNmP4wuiutNF",
        "outputId": "f3a19b9c-0855-4616-8ea0-2ad24266ff16"
      },
      "source": [
        "examples = enumerate(testloader_svhn)\n",
        "batch_idx, (example_data, example_targets) = next(examples)\n",
        "fig = plt.figure()\n",
        "for i in range(6):\n",
        "  plt.subplot(2,3,i+1)\n",
        "  plt.tight_layout()\n",
        "  plt.imshow(example_data[i][0], interpolation='none')\n",
        "  plt.title(\"Ground Truth: {}\".format(example_targets[i]))\n",
        "  plt.xticks([])\n",
        "  plt.yticks([])\n",
        "fig"
      ],
      "execution_count": 24,
      "outputs": [
        {
          "output_type": "execute_result",
          "data": {
            "image/png": "[encoded data removed]",
            "text/plain": [
              "<Figure size 432x288 with 6 Axes>"
            ]
          },
          "metadata": {
            "tags": []
          },
          "execution_count": 24
        },
        {
          "output_type": "display_data",
          "data": {
            "image/png": "[encoded data removed]",
            "text/plain": [
              "<Figure size 432x288 with 6 Axes>"
            ]
          },
          "metadata": {
            "tags": []
          }
        }
      ]
    },
    {
      "cell_type": "code",
      "metadata": {
        "colab": {
          "base_uri": "https://localhost:8080/"
        },
        "id": "ZsAKYJGruxUG",
        "outputId": "e7c1bfef-576a-4171-fcef-0af7897a894f"
      },
      "source": [
        "# Use the above model as a pretrained CNN for the SVHN dataset.  \n",
        "# Report the accuracy\n",
        "validate(net, testloader_svhn)"
      ],
      "execution_count": 25,
      "outputs": [
        {
          "output_type": "stream",
          "text": [
            "Total accuracy of net: 22.18%\n"
          ],
          "name": "stdout"
        }
      ]
    },
    {
      "cell_type": "code",
      "metadata": {
        "colab": {
          "base_uri": "https://localhost:8080/"
        },
        "id": "H4tKrFW4xyZr",
        "outputId": "13ffe6ba-6e21-4d1e-99f6-72680af68cd5"
      },
      "source": [
        "# === Fine Tuning ===\n",
        "\n",
        "# Load the model\n",
        "model = Net()\n",
        "model.load_state_dict(torch.load('mnist_10_epochs.pth'))\n",
        "model.to(device)\n",
        "model.eval()\n",
        "\n",
        "# Train the model using SVHN data\n",
        "train(net = model,\n",
        "      epochs = 10,\n",
        "      trainloader = trainloader_svhn,\n",
        "      optimizer = optim.SGD(model.parameters(), lr=0.001, momentum=0.9),\n",
        "      criterion = nn.CrossEntropyLoss()\n",
        "      )\n",
        "\n",
        "# Report accuracy\n",
        "validate(model, testloader_svhn)"
      ],
      "execution_count": 12,
      "outputs": [
        {
          "output_type": "stream",
          "text": [
            "training  network for 10 epochs, no tensorboard enabled\n",
            "[1,  2000] loss: 1.596\n",
            "[2,  2000] loss: 0.947\n",
            "[3,  2000] loss: 0.739\n",
            "[4,  2000] loss: 0.643\n",
            "[5,  2000] loss: 0.587\n",
            "[6,  2000] loss: 0.549\n",
            "[7,  2000] loss: 0.517\n",
            "[8,  2000] loss: 0.494\n",
            "[9,  2000] loss: 0.474\n",
            "[10,  2000] loss: 0.456\n",
            "Finished Training\n",
            "Total accuracy of net: 84.47%\n"
          ],
          "name": "stdout"
        }
      ]
    },
    {
      "cell_type": "code",
      "metadata": {
        "id": "hMvBd0WL_CSh"
      },
      "source": [
        "torch.save(model.state_dict(), 'svhn_finetuning_10_epochs.pth')"
      ],
      "execution_count": 15,
      "outputs": []
    },
    {
      "cell_type": "code",
      "metadata": {
        "id": "XBt7HX01yze2",
        "colab": {
          "base_uri": "https://localhost:8080/"
        },
        "outputId": "082308fc-8caf-4154-f467-b903b0b1447c"
      },
      "source": [
        "# === Feature Extraction ===\n",
        "# Only train the last layer\n",
        "\n",
        "# Load the model\n",
        "model_fe = Net()\n",
        "model_fe.load_state_dict(torch.load('mnist_10_epochs.pth'))\n",
        "model_fe.to(device)\n",
        "model_fe.eval()\n",
        "\n",
        "# Set requires_grad to false for all but last layer\n",
        "printing = False\n",
        "if printing:\n",
        "  for name, param in model_fe.named_parameters():\n",
        "    print(name, param.requires_grad)\n",
        "\n",
        "for param in model_fe.parameters():\n",
        "    param.requires_grad = False\n",
        "\n",
        "for param in model_fe.fc2.parameters():\n",
        "    param.requires_grad = True\n",
        "\n",
        "if printing:\n",
        "  print()\n",
        "  for name, param in model_fe.named_parameters():\n",
        "    print(name, param.requires_grad)\n",
        "\n",
        "train(net = model_fe,\n",
        "      epochs = 10,\n",
        "      trainloader = trainloader_svhn,\n",
        "      optimizer = optim.SGD(model_fe.parameters(), lr=0.001, momentum=0.8),\n",
        "      criterion = nn.CrossEntropyLoss()\n",
        "      )\n",
        "\n",
        "validate(model_fe, testloader_svhn)"
      ],
      "execution_count": 14,
      "outputs": [
        {
          "output_type": "stream",
          "text": [
            "training  network for 10 epochs, no tensorboard enabled\n",
            "[1,  2000] loss: 2.134\n",
            "[2,  2000] loss: 2.087\n",
            "[3,  2000] loss: 2.069\n",
            "[4,  2000] loss: 2.055\n",
            "[5,  2000] loss: 2.045\n",
            "[6,  2000] loss: 2.034\n",
            "[7,  2000] loss: 2.026\n",
            "[8,  2000] loss: 2.019\n",
            "[9,  2000] loss: 2.014\n",
            "[10,  2000] loss: 2.008\n",
            "Finished Training\n",
            "Total accuracy of net: 28.91%\n"
          ],
          "name": "stdout"
        }
      ]
    },
    {
      "cell_type": "code",
      "metadata": {
        "id": "plBbGlZ8_L4k"
      },
      "source": [
        "torch.save(model_fe.state_dict(), 'svhn_fe_10_epochs.pth')"
      ],
      "execution_count": 16,
      "outputs": []
    }
  ]
}